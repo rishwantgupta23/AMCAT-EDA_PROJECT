{
 "cells": [
  {
   "cell_type": "markdown",
   "id": "22a20b41",
   "metadata": {},
   "source": [
    "# Exploratory Data Analysis on AMCAT Dataset"
   ]
  },
  {
   "cell_type": "markdown",
   "id": "72046024",
   "metadata": {},
   "source": [
    "# Dataset Description\n",
    "\n",
    "The dataset was released by Aspiring Minds from the Aspiring Mind Employment Outcome 2015 (AMEO).\n",
    "The study is primarily limited  only to students with engineering disciplines. \n",
    "The dataset contains the employment outcomes of engineering graduates as\n",
    "dependent variables (Salary, Job Titles, and Job Locations) along with the standardized scores from three different areas – \n",
    "cognitive skills, technical skills and personality skills. \n",
    "The dataset also contains demographic features. The dataset  contains  around  40 independent variables and 4000 data points"
   ]
  },
  {
   "cell_type": "markdown",
   "id": "a0a43628",
   "metadata": {},
   "source": [
    "# Objective\n",
    "\n",
    "The objective of this Analysis is to gain insights and understanding from the provided dataset, particularly focusing on the relationship between various features and the target variable, which is Salary.\n",
    "\n",
    "Specifically, the goals of this analysis include:\n",
    "\n",
    "Describing the dataset and its features comprehensively.\n",
    "Identifying any patterns or trends present in the data.\n",
    "Exploring the relationships between independent variables and the target variable (Salary).\n",
    "Identifying any outliers or anomalies in the data."
   ]
  },
  {
   "cell_type": "code",
   "execution_count": null,
   "id": "7f654749",
   "metadata": {},
   "outputs": [],
   "source": []
  },
  {
   "cell_type": "code",
   "execution_count": 43,
   "id": "b2a660f7",
   "metadata": {},
   "outputs": [],
   "source": [
    "import pandas as pd\n",
    "import numpy as np\n",
    "import matplotlib.pyplot as plt\n",
    "import seaborn as sns"
   ]
  },
  {
   "cell_type": "code",
   "execution_count": 4,
   "id": "b6748cff",
   "metadata": {},
   "outputs": [
    {
     "data": {
      "text/html": [
       "<div>\n",
       "<style scoped>\n",
       "    .dataframe tbody tr th:only-of-type {\n",
       "        vertical-align: middle;\n",
       "    }\n",
       "\n",
       "    .dataframe tbody tr th {\n",
       "        vertical-align: top;\n",
       "    }\n",
       "\n",
       "    .dataframe thead th {\n",
       "        text-align: right;\n",
       "    }\n",
       "</style>\n",
       "<table border=\"1\" class=\"dataframe\">\n",
       "  <thead>\n",
       "    <tr style=\"text-align: right;\">\n",
       "      <th></th>\n",
       "      <th>Unnamed: 0</th>\n",
       "      <th>ID</th>\n",
       "      <th>Salary</th>\n",
       "      <th>DOJ</th>\n",
       "      <th>DOL</th>\n",
       "      <th>Designation</th>\n",
       "      <th>JobCity</th>\n",
       "      <th>Gender</th>\n",
       "      <th>DOB</th>\n",
       "      <th>10percentage</th>\n",
       "      <th>...</th>\n",
       "      <th>ComputerScience</th>\n",
       "      <th>MechanicalEngg</th>\n",
       "      <th>ElectricalEngg</th>\n",
       "      <th>TelecomEngg</th>\n",
       "      <th>CivilEngg</th>\n",
       "      <th>conscientiousness</th>\n",
       "      <th>agreeableness</th>\n",
       "      <th>extraversion</th>\n",
       "      <th>nueroticism</th>\n",
       "      <th>openess_to_experience</th>\n",
       "    </tr>\n",
       "  </thead>\n",
       "  <tbody>\n",
       "    <tr>\n",
       "      <th>0</th>\n",
       "      <td>train</td>\n",
       "      <td>203097</td>\n",
       "      <td>420000.0</td>\n",
       "      <td>6/1/12 0:00</td>\n",
       "      <td>present</td>\n",
       "      <td>senior quality engineer</td>\n",
       "      <td>Bangalore</td>\n",
       "      <td>f</td>\n",
       "      <td>2/19/90 0:00</td>\n",
       "      <td>84.3</td>\n",
       "      <td>...</td>\n",
       "      <td>-1</td>\n",
       "      <td>-1</td>\n",
       "      <td>-1</td>\n",
       "      <td>-1</td>\n",
       "      <td>-1</td>\n",
       "      <td>0.9737</td>\n",
       "      <td>0.8128</td>\n",
       "      <td>0.5269</td>\n",
       "      <td>1.35490</td>\n",
       "      <td>-0.4455</td>\n",
       "    </tr>\n",
       "    <tr>\n",
       "      <th>1</th>\n",
       "      <td>train</td>\n",
       "      <td>579905</td>\n",
       "      <td>500000.0</td>\n",
       "      <td>9/1/13 0:00</td>\n",
       "      <td>present</td>\n",
       "      <td>assistant manager</td>\n",
       "      <td>Indore</td>\n",
       "      <td>m</td>\n",
       "      <td>10/4/89 0:00</td>\n",
       "      <td>85.4</td>\n",
       "      <td>...</td>\n",
       "      <td>-1</td>\n",
       "      <td>-1</td>\n",
       "      <td>-1</td>\n",
       "      <td>-1</td>\n",
       "      <td>-1</td>\n",
       "      <td>-0.7335</td>\n",
       "      <td>0.3789</td>\n",
       "      <td>1.2396</td>\n",
       "      <td>-0.10760</td>\n",
       "      <td>0.8637</td>\n",
       "    </tr>\n",
       "    <tr>\n",
       "      <th>2</th>\n",
       "      <td>train</td>\n",
       "      <td>810601</td>\n",
       "      <td>325000.0</td>\n",
       "      <td>6/1/14 0:00</td>\n",
       "      <td>present</td>\n",
       "      <td>systems engineer</td>\n",
       "      <td>Chennai</td>\n",
       "      <td>f</td>\n",
       "      <td>8/3/92 0:00</td>\n",
       "      <td>85.0</td>\n",
       "      <td>...</td>\n",
       "      <td>-1</td>\n",
       "      <td>-1</td>\n",
       "      <td>-1</td>\n",
       "      <td>-1</td>\n",
       "      <td>-1</td>\n",
       "      <td>0.2718</td>\n",
       "      <td>1.7109</td>\n",
       "      <td>0.1637</td>\n",
       "      <td>-0.86820</td>\n",
       "      <td>0.6721</td>\n",
       "    </tr>\n",
       "    <tr>\n",
       "      <th>3</th>\n",
       "      <td>train</td>\n",
       "      <td>267447</td>\n",
       "      <td>1100000.0</td>\n",
       "      <td>7/1/11 0:00</td>\n",
       "      <td>present</td>\n",
       "      <td>senior software engineer</td>\n",
       "      <td>Gurgaon</td>\n",
       "      <td>m</td>\n",
       "      <td>12/5/89 0:00</td>\n",
       "      <td>85.6</td>\n",
       "      <td>...</td>\n",
       "      <td>-1</td>\n",
       "      <td>-1</td>\n",
       "      <td>-1</td>\n",
       "      <td>-1</td>\n",
       "      <td>-1</td>\n",
       "      <td>0.0464</td>\n",
       "      <td>0.3448</td>\n",
       "      <td>-0.3440</td>\n",
       "      <td>-0.40780</td>\n",
       "      <td>-0.9194</td>\n",
       "    </tr>\n",
       "    <tr>\n",
       "      <th>4</th>\n",
       "      <td>train</td>\n",
       "      <td>343523</td>\n",
       "      <td>200000.0</td>\n",
       "      <td>3/1/14 0:00</td>\n",
       "      <td>3/1/15 0:00</td>\n",
       "      <td>get</td>\n",
       "      <td>Manesar</td>\n",
       "      <td>m</td>\n",
       "      <td>2/27/91 0:00</td>\n",
       "      <td>78.0</td>\n",
       "      <td>...</td>\n",
       "      <td>-1</td>\n",
       "      <td>-1</td>\n",
       "      <td>-1</td>\n",
       "      <td>-1</td>\n",
       "      <td>-1</td>\n",
       "      <td>-0.8810</td>\n",
       "      <td>-0.2793</td>\n",
       "      <td>-1.0697</td>\n",
       "      <td>0.09163</td>\n",
       "      <td>-0.1295</td>\n",
       "    </tr>\n",
       "  </tbody>\n",
       "</table>\n",
       "<p>5 rows × 39 columns</p>\n",
       "</div>"
      ],
      "text/plain": [
       "  Unnamed: 0      ID     Salary          DOJ          DOL  \\\n",
       "0      train  203097   420000.0  6/1/12 0:00      present   \n",
       "1      train  579905   500000.0  9/1/13 0:00      present   \n",
       "2      train  810601   325000.0  6/1/14 0:00      present   \n",
       "3      train  267447  1100000.0  7/1/11 0:00      present   \n",
       "4      train  343523   200000.0  3/1/14 0:00  3/1/15 0:00   \n",
       "\n",
       "                Designation    JobCity Gender           DOB  10percentage  \\\n",
       "0   senior quality engineer  Bangalore      f  2/19/90 0:00          84.3   \n",
       "1         assistant manager     Indore      m  10/4/89 0:00          85.4   \n",
       "2          systems engineer    Chennai      f   8/3/92 0:00          85.0   \n",
       "3  senior software engineer    Gurgaon      m  12/5/89 0:00          85.6   \n",
       "4                       get    Manesar      m  2/27/91 0:00          78.0   \n",
       "\n",
       "   ... ComputerScience  MechanicalEngg  ElectricalEngg TelecomEngg  CivilEngg  \\\n",
       "0  ...              -1              -1              -1          -1         -1   \n",
       "1  ...              -1              -1              -1          -1         -1   \n",
       "2  ...              -1              -1              -1          -1         -1   \n",
       "3  ...              -1              -1              -1          -1         -1   \n",
       "4  ...              -1              -1              -1          -1         -1   \n",
       "\n",
       "   conscientiousness agreeableness extraversion  nueroticism  \\\n",
       "0             0.9737        0.8128       0.5269      1.35490   \n",
       "1            -0.7335        0.3789       1.2396     -0.10760   \n",
       "2             0.2718        1.7109       0.1637     -0.86820   \n",
       "3             0.0464        0.3448      -0.3440     -0.40780   \n",
       "4            -0.8810       -0.2793      -1.0697      0.09163   \n",
       "\n",
       "   openess_to_experience  \n",
       "0                -0.4455  \n",
       "1                 0.8637  \n",
       "2                 0.6721  \n",
       "3                -0.9194  \n",
       "4                -0.1295  \n",
       "\n",
       "[5 rows x 39 columns]"
      ]
     },
     "execution_count": 4,
     "metadata": {},
     "output_type": "execute_result"
    }
   ],
   "source": [
    "df = pd.read_csv(\"C:\\\\Users\\\\Aishwary\\\\OneDrive\\\\Desktop\\\\Innomatics\\\\EDA\\\\data.xlsx - Sheet1.csv\")\n",
    "df.head()"
   ]
  },
  {
   "cell_type": "code",
   "execution_count": 5,
   "id": "f22b4283",
   "metadata": {},
   "outputs": [
    {
     "data": {
      "text/plain": [
       "(3998, 39)"
      ]
     },
     "execution_count": 5,
     "metadata": {},
     "output_type": "execute_result"
    }
   ],
   "source": [
    "df.shape"
   ]
  },
  {
   "cell_type": "code",
   "execution_count": 8,
   "id": "bf37ee88",
   "metadata": {},
   "outputs": [
    {
     "data": {
      "text/plain": [
       "Index(['Unnamed: 0', 'ID', 'Salary', 'DOJ', 'DOL', 'Designation', 'JobCity',\n",
       "       'Gender', 'DOB', '10percentage', '10board', '12graduation',\n",
       "       '12percentage', '12board', 'CollegeID', 'CollegeTier', 'Degree',\n",
       "       'Specialization', 'collegeGPA', 'CollegeCityID', 'CollegeCityTier',\n",
       "       'CollegeState', 'GraduationYear', 'English', 'Logical', 'Quant',\n",
       "       'Domain', 'ComputerProgramming', 'ElectronicsAndSemicon',\n",
       "       'ComputerScience', 'MechanicalEngg', 'ElectricalEngg', 'TelecomEngg',\n",
       "       'CivilEngg', 'conscientiousness', 'agreeableness', 'extraversion',\n",
       "       'nueroticism', 'openess_to_experience'],\n",
       "      dtype='object')"
      ]
     },
     "execution_count": 8,
     "metadata": {},
     "output_type": "execute_result"
    }
   ],
   "source": [
    "df.columns"
   ]
  },
  {
   "cell_type": "code",
   "execution_count": 14,
   "id": "1b077de9",
   "metadata": {},
   "outputs": [
    {
     "data": {
      "text/html": [
       "<div>\n",
       "<style scoped>\n",
       "    .dataframe tbody tr th:only-of-type {\n",
       "        vertical-align: middle;\n",
       "    }\n",
       "\n",
       "    .dataframe tbody tr th {\n",
       "        vertical-align: top;\n",
       "    }\n",
       "\n",
       "    .dataframe thead th {\n",
       "        text-align: right;\n",
       "    }\n",
       "</style>\n",
       "<table border=\"1\" class=\"dataframe\">\n",
       "  <thead>\n",
       "    <tr style=\"text-align: right;\">\n",
       "      <th></th>\n",
       "      <th>ID</th>\n",
       "      <th>Salary</th>\n",
       "      <th>10percentage</th>\n",
       "      <th>12graduation</th>\n",
       "      <th>12percentage</th>\n",
       "      <th>CollegeID</th>\n",
       "      <th>CollegeTier</th>\n",
       "      <th>collegeGPA</th>\n",
       "      <th>CollegeCityID</th>\n",
       "      <th>CollegeCityTier</th>\n",
       "      <th>...</th>\n",
       "      <th>ComputerScience</th>\n",
       "      <th>MechanicalEngg</th>\n",
       "      <th>ElectricalEngg</th>\n",
       "      <th>TelecomEngg</th>\n",
       "      <th>CivilEngg</th>\n",
       "      <th>conscientiousness</th>\n",
       "      <th>agreeableness</th>\n",
       "      <th>extraversion</th>\n",
       "      <th>nueroticism</th>\n",
       "      <th>openess_to_experience</th>\n",
       "    </tr>\n",
       "  </thead>\n",
       "  <tbody>\n",
       "    <tr>\n",
       "      <th>count</th>\n",
       "      <td>3.998000e+03</td>\n",
       "      <td>3.998000e+03</td>\n",
       "      <td>3998.000000</td>\n",
       "      <td>3998.000000</td>\n",
       "      <td>3998.000000</td>\n",
       "      <td>3998.000000</td>\n",
       "      <td>3998.000000</td>\n",
       "      <td>3998.000000</td>\n",
       "      <td>3998.000000</td>\n",
       "      <td>3998.000000</td>\n",
       "      <td>...</td>\n",
       "      <td>3998.000000</td>\n",
       "      <td>3998.000000</td>\n",
       "      <td>3998.000000</td>\n",
       "      <td>3998.000000</td>\n",
       "      <td>3998.000000</td>\n",
       "      <td>3998.000000</td>\n",
       "      <td>3998.000000</td>\n",
       "      <td>3998.000000</td>\n",
       "      <td>3998.000000</td>\n",
       "      <td>3998.000000</td>\n",
       "    </tr>\n",
       "    <tr>\n",
       "      <th>mean</th>\n",
       "      <td>6.637945e+05</td>\n",
       "      <td>3.076998e+05</td>\n",
       "      <td>77.925443</td>\n",
       "      <td>2008.087544</td>\n",
       "      <td>74.466366</td>\n",
       "      <td>5156.851426</td>\n",
       "      <td>1.925713</td>\n",
       "      <td>71.486171</td>\n",
       "      <td>5156.851426</td>\n",
       "      <td>0.300400</td>\n",
       "      <td>...</td>\n",
       "      <td>90.742371</td>\n",
       "      <td>22.974737</td>\n",
       "      <td>16.478739</td>\n",
       "      <td>31.851176</td>\n",
       "      <td>2.683842</td>\n",
       "      <td>-0.037831</td>\n",
       "      <td>0.146496</td>\n",
       "      <td>0.002763</td>\n",
       "      <td>-0.169033</td>\n",
       "      <td>-0.138110</td>\n",
       "    </tr>\n",
       "    <tr>\n",
       "      <th>std</th>\n",
       "      <td>3.632182e+05</td>\n",
       "      <td>2.127375e+05</td>\n",
       "      <td>9.850162</td>\n",
       "      <td>1.653599</td>\n",
       "      <td>10.999933</td>\n",
       "      <td>4802.261482</td>\n",
       "      <td>0.262270</td>\n",
       "      <td>8.167338</td>\n",
       "      <td>4802.261482</td>\n",
       "      <td>0.458489</td>\n",
       "      <td>...</td>\n",
       "      <td>175.273083</td>\n",
       "      <td>98.123311</td>\n",
       "      <td>87.585634</td>\n",
       "      <td>104.852845</td>\n",
       "      <td>36.658505</td>\n",
       "      <td>1.028666</td>\n",
       "      <td>0.941782</td>\n",
       "      <td>0.951471</td>\n",
       "      <td>1.007580</td>\n",
       "      <td>1.008075</td>\n",
       "    </tr>\n",
       "    <tr>\n",
       "      <th>min</th>\n",
       "      <td>1.124400e+04</td>\n",
       "      <td>3.500000e+04</td>\n",
       "      <td>43.000000</td>\n",
       "      <td>1995.000000</td>\n",
       "      <td>40.000000</td>\n",
       "      <td>2.000000</td>\n",
       "      <td>1.000000</td>\n",
       "      <td>6.450000</td>\n",
       "      <td>2.000000</td>\n",
       "      <td>0.000000</td>\n",
       "      <td>...</td>\n",
       "      <td>-1.000000</td>\n",
       "      <td>-1.000000</td>\n",
       "      <td>-1.000000</td>\n",
       "      <td>-1.000000</td>\n",
       "      <td>-1.000000</td>\n",
       "      <td>-4.126700</td>\n",
       "      <td>-5.781600</td>\n",
       "      <td>-4.600900</td>\n",
       "      <td>-2.643000</td>\n",
       "      <td>-7.375700</td>\n",
       "    </tr>\n",
       "    <tr>\n",
       "      <th>25%</th>\n",
       "      <td>3.342842e+05</td>\n",
       "      <td>1.800000e+05</td>\n",
       "      <td>71.680000</td>\n",
       "      <td>2007.000000</td>\n",
       "      <td>66.000000</td>\n",
       "      <td>494.000000</td>\n",
       "      <td>2.000000</td>\n",
       "      <td>66.407500</td>\n",
       "      <td>494.000000</td>\n",
       "      <td>0.000000</td>\n",
       "      <td>...</td>\n",
       "      <td>-1.000000</td>\n",
       "      <td>-1.000000</td>\n",
       "      <td>-1.000000</td>\n",
       "      <td>-1.000000</td>\n",
       "      <td>-1.000000</td>\n",
       "      <td>-0.713525</td>\n",
       "      <td>-0.287100</td>\n",
       "      <td>-0.604800</td>\n",
       "      <td>-0.868200</td>\n",
       "      <td>-0.669200</td>\n",
       "    </tr>\n",
       "    <tr>\n",
       "      <th>50%</th>\n",
       "      <td>6.396000e+05</td>\n",
       "      <td>3.000000e+05</td>\n",
       "      <td>79.150000</td>\n",
       "      <td>2008.000000</td>\n",
       "      <td>74.400000</td>\n",
       "      <td>3879.000000</td>\n",
       "      <td>2.000000</td>\n",
       "      <td>71.720000</td>\n",
       "      <td>3879.000000</td>\n",
       "      <td>0.000000</td>\n",
       "      <td>...</td>\n",
       "      <td>-1.000000</td>\n",
       "      <td>-1.000000</td>\n",
       "      <td>-1.000000</td>\n",
       "      <td>-1.000000</td>\n",
       "      <td>-1.000000</td>\n",
       "      <td>0.046400</td>\n",
       "      <td>0.212400</td>\n",
       "      <td>0.091400</td>\n",
       "      <td>-0.234400</td>\n",
       "      <td>-0.094300</td>\n",
       "    </tr>\n",
       "    <tr>\n",
       "      <th>75%</th>\n",
       "      <td>9.904800e+05</td>\n",
       "      <td>3.700000e+05</td>\n",
       "      <td>85.670000</td>\n",
       "      <td>2009.000000</td>\n",
       "      <td>82.600000</td>\n",
       "      <td>8818.000000</td>\n",
       "      <td>2.000000</td>\n",
       "      <td>76.327500</td>\n",
       "      <td>8818.000000</td>\n",
       "      <td>1.000000</td>\n",
       "      <td>...</td>\n",
       "      <td>-1.000000</td>\n",
       "      <td>-1.000000</td>\n",
       "      <td>-1.000000</td>\n",
       "      <td>-1.000000</td>\n",
       "      <td>-1.000000</td>\n",
       "      <td>0.702700</td>\n",
       "      <td>0.812800</td>\n",
       "      <td>0.672000</td>\n",
       "      <td>0.526200</td>\n",
       "      <td>0.502400</td>\n",
       "    </tr>\n",
       "    <tr>\n",
       "      <th>max</th>\n",
       "      <td>1.298275e+06</td>\n",
       "      <td>4.000000e+06</td>\n",
       "      <td>97.760000</td>\n",
       "      <td>2013.000000</td>\n",
       "      <td>98.700000</td>\n",
       "      <td>18409.000000</td>\n",
       "      <td>2.000000</td>\n",
       "      <td>99.930000</td>\n",
       "      <td>18409.000000</td>\n",
       "      <td>1.000000</td>\n",
       "      <td>...</td>\n",
       "      <td>715.000000</td>\n",
       "      <td>623.000000</td>\n",
       "      <td>676.000000</td>\n",
       "      <td>548.000000</td>\n",
       "      <td>516.000000</td>\n",
       "      <td>1.995300</td>\n",
       "      <td>1.904800</td>\n",
       "      <td>2.535400</td>\n",
       "      <td>3.352500</td>\n",
       "      <td>1.822400</td>\n",
       "    </tr>\n",
       "  </tbody>\n",
       "</table>\n",
       "<p>8 rows × 27 columns</p>\n",
       "</div>"
      ],
      "text/plain": [
       "                 ID        Salary  10percentage  12graduation  12percentage  \\\n",
       "count  3.998000e+03  3.998000e+03   3998.000000   3998.000000   3998.000000   \n",
       "mean   6.637945e+05  3.076998e+05     77.925443   2008.087544     74.466366   \n",
       "std    3.632182e+05  2.127375e+05      9.850162      1.653599     10.999933   \n",
       "min    1.124400e+04  3.500000e+04     43.000000   1995.000000     40.000000   \n",
       "25%    3.342842e+05  1.800000e+05     71.680000   2007.000000     66.000000   \n",
       "50%    6.396000e+05  3.000000e+05     79.150000   2008.000000     74.400000   \n",
       "75%    9.904800e+05  3.700000e+05     85.670000   2009.000000     82.600000   \n",
       "max    1.298275e+06  4.000000e+06     97.760000   2013.000000     98.700000   \n",
       "\n",
       "          CollegeID  CollegeTier   collegeGPA  CollegeCityID  CollegeCityTier  \\\n",
       "count   3998.000000  3998.000000  3998.000000    3998.000000      3998.000000   \n",
       "mean    5156.851426     1.925713    71.486171    5156.851426         0.300400   \n",
       "std     4802.261482     0.262270     8.167338    4802.261482         0.458489   \n",
       "min        2.000000     1.000000     6.450000       2.000000         0.000000   \n",
       "25%      494.000000     2.000000    66.407500     494.000000         0.000000   \n",
       "50%     3879.000000     2.000000    71.720000    3879.000000         0.000000   \n",
       "75%     8818.000000     2.000000    76.327500    8818.000000         1.000000   \n",
       "max    18409.000000     2.000000    99.930000   18409.000000         1.000000   \n",
       "\n",
       "       ...  ComputerScience  MechanicalEngg  ElectricalEngg  TelecomEngg  \\\n",
       "count  ...      3998.000000     3998.000000     3998.000000  3998.000000   \n",
       "mean   ...        90.742371       22.974737       16.478739    31.851176   \n",
       "std    ...       175.273083       98.123311       87.585634   104.852845   \n",
       "min    ...        -1.000000       -1.000000       -1.000000    -1.000000   \n",
       "25%    ...        -1.000000       -1.000000       -1.000000    -1.000000   \n",
       "50%    ...        -1.000000       -1.000000       -1.000000    -1.000000   \n",
       "75%    ...        -1.000000       -1.000000       -1.000000    -1.000000   \n",
       "max    ...       715.000000      623.000000      676.000000   548.000000   \n",
       "\n",
       "         CivilEngg  conscientiousness  agreeableness  extraversion  \\\n",
       "count  3998.000000        3998.000000    3998.000000   3998.000000   \n",
       "mean      2.683842          -0.037831       0.146496      0.002763   \n",
       "std      36.658505           1.028666       0.941782      0.951471   \n",
       "min      -1.000000          -4.126700      -5.781600     -4.600900   \n",
       "25%      -1.000000          -0.713525      -0.287100     -0.604800   \n",
       "50%      -1.000000           0.046400       0.212400      0.091400   \n",
       "75%      -1.000000           0.702700       0.812800      0.672000   \n",
       "max     516.000000           1.995300       1.904800      2.535400   \n",
       "\n",
       "       nueroticism  openess_to_experience  \n",
       "count  3998.000000            3998.000000  \n",
       "mean     -0.169033              -0.138110  \n",
       "std       1.007580               1.008075  \n",
       "min      -2.643000              -7.375700  \n",
       "25%      -0.868200              -0.669200  \n",
       "50%      -0.234400              -0.094300  \n",
       "75%       0.526200               0.502400  \n",
       "max       3.352500               1.822400  \n",
       "\n",
       "[8 rows x 27 columns]"
      ]
     },
     "execution_count": 14,
     "metadata": {},
     "output_type": "execute_result"
    }
   ],
   "source": [
    "df.describe()"
   ]
  },
  {
   "cell_type": "code",
   "execution_count": 9,
   "id": "a5990ae8",
   "metadata": {
    "scrolled": true
   },
   "outputs": [
    {
     "name": "stdout",
     "output_type": "stream",
     "text": [
      "<class 'pandas.core.frame.DataFrame'>\n",
      "RangeIndex: 3998 entries, 0 to 3997\n",
      "Data columns (total 39 columns):\n",
      " #   Column                 Non-Null Count  Dtype  \n",
      "---  ------                 --------------  -----  \n",
      " 0   Unnamed: 0             3998 non-null   object \n",
      " 1   ID                     3998 non-null   int64  \n",
      " 2   Salary                 3998 non-null   float64\n",
      " 3   DOJ                    3998 non-null   object \n",
      " 4   DOL                    3998 non-null   object \n",
      " 5   Designation            3998 non-null   object \n",
      " 6   JobCity                3998 non-null   object \n",
      " 7   Gender                 3998 non-null   object \n",
      " 8   DOB                    3998 non-null   object \n",
      " 9   10percentage           3998 non-null   float64\n",
      " 10  10board                3998 non-null   object \n",
      " 11  12graduation           3998 non-null   int64  \n",
      " 12  12percentage           3998 non-null   float64\n",
      " 13  12board                3998 non-null   object \n",
      " 14  CollegeID              3998 non-null   int64  \n",
      " 15  CollegeTier            3998 non-null   int64  \n",
      " 16  Degree                 3998 non-null   object \n",
      " 17  Specialization         3998 non-null   object \n",
      " 18  collegeGPA             3998 non-null   float64\n",
      " 19  CollegeCityID          3998 non-null   int64  \n",
      " 20  CollegeCityTier        3998 non-null   int64  \n",
      " 21  CollegeState           3998 non-null   object \n",
      " 22  GraduationYear         3998 non-null   int64  \n",
      " 23  English                3998 non-null   int64  \n",
      " 24  Logical                3998 non-null   int64  \n",
      " 25  Quant                  3998 non-null   int64  \n",
      " 26  Domain                 3998 non-null   float64\n",
      " 27  ComputerProgramming    3998 non-null   int64  \n",
      " 28  ElectronicsAndSemicon  3998 non-null   int64  \n",
      " 29  ComputerScience        3998 non-null   int64  \n",
      " 30  MechanicalEngg         3998 non-null   int64  \n",
      " 31  ElectricalEngg         3998 non-null   int64  \n",
      " 32  TelecomEngg            3998 non-null   int64  \n",
      " 33  CivilEngg              3998 non-null   int64  \n",
      " 34  conscientiousness      3998 non-null   float64\n",
      " 35  agreeableness          3998 non-null   float64\n",
      " 36  extraversion           3998 non-null   float64\n",
      " 37  nueroticism            3998 non-null   float64\n",
      " 38  openess_to_experience  3998 non-null   float64\n",
      "dtypes: float64(10), int64(17), object(12)\n",
      "memory usage: 1.2+ MB\n"
     ]
    }
   ],
   "source": [
    "df.info()\n"
   ]
  },
  {
   "cell_type": "code",
   "execution_count": 11,
   "id": "39c07844",
   "metadata": {},
   "outputs": [
    {
     "name": "stdout",
     "output_type": "stream",
     "text": [
      "<class 'pandas.core.frame.DataFrame'>\n",
      "RangeIndex: 3998 entries, 0 to 3997\n",
      "Data columns (total 39 columns):\n",
      " #   Column                 Non-Null Count  Dtype         \n",
      "---  ------                 --------------  -----         \n",
      " 0   Unnamed: 0             3998 non-null   object        \n",
      " 1   ID                     3998 non-null   int64         \n",
      " 2   Salary                 3998 non-null   float64       \n",
      " 3   DOJ                    3998 non-null   datetime64[ns]\n",
      " 4   DOL                    3998 non-null   object        \n",
      " 5   Designation            3998 non-null   object        \n",
      " 6   JobCity                3998 non-null   object        \n",
      " 7   Gender                 3998 non-null   object        \n",
      " 8   DOB                    3998 non-null   object        \n",
      " 9   10percentage           3998 non-null   float64       \n",
      " 10  10board                3998 non-null   object        \n",
      " 11  12graduation           3998 non-null   int64         \n",
      " 12  12percentage           3998 non-null   float64       \n",
      " 13  12board                3998 non-null   object        \n",
      " 14  CollegeID              3998 non-null   int64         \n",
      " 15  CollegeTier            3998 non-null   int64         \n",
      " 16  Degree                 3998 non-null   object        \n",
      " 17  Specialization         3998 non-null   object        \n",
      " 18  collegeGPA             3998 non-null   float64       \n",
      " 19  CollegeCityID          3998 non-null   int64         \n",
      " 20  CollegeCityTier        3998 non-null   int64         \n",
      " 21  CollegeState           3998 non-null   object        \n",
      " 22  GraduationYear         3998 non-null   int64         \n",
      " 23  English                3998 non-null   int64         \n",
      " 24  Logical                3998 non-null   int64         \n",
      " 25  Quant                  3998 non-null   int64         \n",
      " 26  Domain                 3998 non-null   float64       \n",
      " 27  ComputerProgramming    3998 non-null   int64         \n",
      " 28  ElectronicsAndSemicon  3998 non-null   int64         \n",
      " 29  ComputerScience        3998 non-null   int64         \n",
      " 30  MechanicalEngg         3998 non-null   int64         \n",
      " 31  ElectricalEngg         3998 non-null   int64         \n",
      " 32  TelecomEngg            3998 non-null   int64         \n",
      " 33  CivilEngg              3998 non-null   int64         \n",
      " 34  conscientiousness      3998 non-null   float64       \n",
      " 35  agreeableness          3998 non-null   float64       \n",
      " 36  extraversion           3998 non-null   float64       \n",
      " 37  nueroticism            3998 non-null   float64       \n",
      " 38  openess_to_experience  3998 non-null   float64       \n",
      "dtypes: datetime64[ns](1), float64(10), int64(17), object(11)\n",
      "memory usage: 1.2+ MB\n"
     ]
    }
   ],
   "source": [
    "df['DOJ'] = pd.to_datetime(df['DOJ'])\n",
    "#df['DOL'] = pd.to_datetime(df['DOL'])\n",
    "\n",
    "df.info()"
   ]
  },
  {
   "cell_type": "code",
   "execution_count": 12,
   "id": "5a973deb",
   "metadata": {},
   "outputs": [
    {
     "data": {
      "text/plain": [
       "Unnamed: 0               0\n",
       "ComputerScience          0\n",
       "GraduationYear           0\n",
       "English                  0\n",
       "Logical                  0\n",
       "Quant                    0\n",
       "Domain                   0\n",
       "ComputerProgramming      0\n",
       "ElectronicsAndSemicon    0\n",
       "MechanicalEngg           0\n",
       "CollegeCityTier          0\n",
       "ElectricalEngg           0\n",
       "TelecomEngg              0\n",
       "CivilEngg                0\n",
       "conscientiousness        0\n",
       "agreeableness            0\n",
       "extraversion             0\n",
       "nueroticism              0\n",
       "CollegeState             0\n",
       "CollegeCityID            0\n",
       "ID                       0\n",
       "10percentage             0\n",
       "Salary                   0\n",
       "DOJ                      0\n",
       "DOL                      0\n",
       "Designation              0\n",
       "JobCity                  0\n",
       "Gender                   0\n",
       "DOB                      0\n",
       "10board                  0\n",
       "collegeGPA               0\n",
       "12graduation             0\n",
       "12percentage             0\n",
       "12board                  0\n",
       "CollegeID                0\n",
       "CollegeTier              0\n",
       "Degree                   0\n",
       "Specialization           0\n",
       "openess_to_experience    0\n",
       "dtype: int64"
      ]
     },
     "execution_count": 12,
     "metadata": {},
     "output_type": "execute_result"
    }
   ],
   "source": [
    "df.isnull().sum().sort_values(ascending=False)\n"
   ]
  },
  {
   "cell_type": "code",
   "execution_count": 21,
   "id": "815c7d36",
   "metadata": {},
   "outputs": [
    {
     "data": {
      "image/png": "[encoded data removed]",
      "text/plain": [
       "<Figure size 432x288 with 1 Axes>"
      ]
     },
     "metadata": {
      "needs_background": "light"
     },
     "output_type": "display_data"
    }
   ],
   "source": [
    "# Select the variable of interest\n",
    "variable = 'Salary'\n",
    "\n",
    "# Calculate the PDF\n",
    "pdf = np.histogram(df[variable], bins=10, density=True)[0]\n",
    "\n",
    "# Plot the PDF\n",
    "plt.plot(pdf)\n",
    "plt.xlabel('Salary')\n",
    "plt.ylabel('Probability Density')\n",
    "plt.title('PDF of Salary')\n",
    "plt.show()"
   ]
  },
  {
   "cell_type": "code",
   "execution_count": 22,
   "id": "b2f6909b",
   "metadata": {},
   "outputs": [
    {
     "data": {
      "text/plain": [
       "Index(['Unnamed: 0', 'ID', 'Salary', 'DOJ', 'DOL', 'Designation', 'JobCity',\n",
       "       'Gender', 'DOB', '10percentage', '10board', '12graduation',\n",
       "       '12percentage', '12board', 'CollegeID', 'CollegeTier', 'Degree',\n",
       "       'Specialization', 'collegeGPA', 'CollegeCityID', 'CollegeCityTier',\n",
       "       'CollegeState', 'GraduationYear', 'English', 'Logical', 'Quant',\n",
       "       'Domain', 'ComputerProgramming', 'ElectronicsAndSemicon',\n",
       "       'ComputerScience', 'MechanicalEngg', 'ElectricalEngg', 'TelecomEngg',\n",
       "       'CivilEngg', 'conscientiousness', 'agreeableness', 'extraversion',\n",
       "       'nueroticism', 'openess_to_experience'],\n",
       "      dtype='object')"
      ]
     },
     "execution_count": 22,
     "metadata": {},
     "output_type": "execute_result"
    }
   ],
   "source": [
    "df.columns"
   ]
  },
  {
   "cell_type": "code",
   "execution_count": 73,
   "id": "4f8b6ef6",
   "metadata": {},
   "outputs": [
    {
     "name": "stdout",
     "output_type": "stream",
     "text": [
      "['ID', 'Salary', 'GraduationYear', 'English', 'Logical', 'Quant', 'Domain', 'ComputerProgramming', 'ElectronicsAndSemicon', 'ComputerScience', 'MechanicalEngg', 'ElectricalEngg', 'TelecomEngg', 'CivilEngg', 'conscientiousness']\n"
     ]
    }
   ],
   "source": [
    "numerical_features = list(df.select_dtypes(include=['number']).columns)\n",
    "categorical_features = list(df.select_dtypes(include=['object']).columns)\n",
    "\n",
    "\n",
    "num_discrete_features = ['DOJ','DOL','DOB','10percentage', '12graduation', '12percentage', 'CollegeID', 'CollegeTier',\n",
    "                         'collegeGPA', 'CollegeCityID', 'CollegeCityTier', 'GraduationYear'\n",
    "                        'conscientiousness','agreeableness','extraversion','nueroticism','openess_to_experience']\n",
    "\n",
    "numerical_features = [feature for feature in numerical_features if feature not in num_discrete_features]\n",
    "\n",
    "print(numerical_features)"
   ]
  },
  {
   "cell_type": "code",
   "execution_count": 74,
   "id": "174f43bd",
   "metadata": {
    "scrolled": true
   },
   "outputs": [
    {
     "data": {
      "text/html": [
       "<div>\n",
       "<style scoped>\n",
       "    .dataframe tbody tr th:only-of-type {\n",
       "        vertical-align: middle;\n",
       "    }\n",
       "\n",
       "    .dataframe tbody tr th {\n",
       "        vertical-align: top;\n",
       "    }\n",
       "\n",
       "    .dataframe thead th {\n",
       "        text-align: right;\n",
       "    }\n",
       "</style>\n",
       "<table border=\"1\" class=\"dataframe\">\n",
       "  <thead>\n",
       "    <tr style=\"text-align: right;\">\n",
       "      <th></th>\n",
       "      <th>Unnamed: 0</th>\n",
       "      <th>ID</th>\n",
       "      <th>Salary</th>\n",
       "      <th>DOJ</th>\n",
       "      <th>DOL</th>\n",
       "      <th>Designation</th>\n",
       "      <th>JobCity</th>\n",
       "      <th>Gender</th>\n",
       "      <th>DOB</th>\n",
       "      <th>10percentage</th>\n",
       "      <th>...</th>\n",
       "      <th>ComputerScience</th>\n",
       "      <th>MechanicalEngg</th>\n",
       "      <th>ElectricalEngg</th>\n",
       "      <th>TelecomEngg</th>\n",
       "      <th>CivilEngg</th>\n",
       "      <th>conscientiousness</th>\n",
       "      <th>agreeableness</th>\n",
       "      <th>extraversion</th>\n",
       "      <th>nueroticism</th>\n",
       "      <th>openess_to_experience</th>\n",
       "    </tr>\n",
       "  </thead>\n",
       "  <tbody>\n",
       "    <tr>\n",
       "      <th>0</th>\n",
       "      <td>train</td>\n",
       "      <td>203097</td>\n",
       "      <td>420000.0</td>\n",
       "      <td>2012-06-01</td>\n",
       "      <td>present</td>\n",
       "      <td>senior quality engineer</td>\n",
       "      <td>Bangalore</td>\n",
       "      <td>f</td>\n",
       "      <td>2/19/90 0:00</td>\n",
       "      <td>84.3</td>\n",
       "      <td>...</td>\n",
       "      <td>-1</td>\n",
       "      <td>-1</td>\n",
       "      <td>-1</td>\n",
       "      <td>-1</td>\n",
       "      <td>-1</td>\n",
       "      <td>0.9737</td>\n",
       "      <td>0.8128</td>\n",
       "      <td>0.5269</td>\n",
       "      <td>1.35490</td>\n",
       "      <td>-0.4455</td>\n",
       "    </tr>\n",
       "    <tr>\n",
       "      <th>1</th>\n",
       "      <td>train</td>\n",
       "      <td>579905</td>\n",
       "      <td>500000.0</td>\n",
       "      <td>2013-09-01</td>\n",
       "      <td>present</td>\n",
       "      <td>assistant manager</td>\n",
       "      <td>Indore</td>\n",
       "      <td>m</td>\n",
       "      <td>10/4/89 0:00</td>\n",
       "      <td>85.4</td>\n",
       "      <td>...</td>\n",
       "      <td>-1</td>\n",
       "      <td>-1</td>\n",
       "      <td>-1</td>\n",
       "      <td>-1</td>\n",
       "      <td>-1</td>\n",
       "      <td>-0.7335</td>\n",
       "      <td>0.3789</td>\n",
       "      <td>1.2396</td>\n",
       "      <td>-0.10760</td>\n",
       "      <td>0.8637</td>\n",
       "    </tr>\n",
       "    <tr>\n",
       "      <th>2</th>\n",
       "      <td>train</td>\n",
       "      <td>810601</td>\n",
       "      <td>325000.0</td>\n",
       "      <td>2014-06-01</td>\n",
       "      <td>present</td>\n",
       "      <td>systems engineer</td>\n",
       "      <td>Chennai</td>\n",
       "      <td>f</td>\n",
       "      <td>8/3/92 0:00</td>\n",
       "      <td>85.0</td>\n",
       "      <td>...</td>\n",
       "      <td>-1</td>\n",
       "      <td>-1</td>\n",
       "      <td>-1</td>\n",
       "      <td>-1</td>\n",
       "      <td>-1</td>\n",
       "      <td>0.2718</td>\n",
       "      <td>1.7109</td>\n",
       "      <td>0.1637</td>\n",
       "      <td>-0.86820</td>\n",
       "      <td>0.6721</td>\n",
       "    </tr>\n",
       "    <tr>\n",
       "      <th>3</th>\n",
       "      <td>train</td>\n",
       "      <td>267447</td>\n",
       "      <td>1100000.0</td>\n",
       "      <td>2011-07-01</td>\n",
       "      <td>present</td>\n",
       "      <td>senior software engineer</td>\n",
       "      <td>Gurgaon</td>\n",
       "      <td>m</td>\n",
       "      <td>12/5/89 0:00</td>\n",
       "      <td>85.6</td>\n",
       "      <td>...</td>\n",
       "      <td>-1</td>\n",
       "      <td>-1</td>\n",
       "      <td>-1</td>\n",
       "      <td>-1</td>\n",
       "      <td>-1</td>\n",
       "      <td>0.0464</td>\n",
       "      <td>0.3448</td>\n",
       "      <td>-0.3440</td>\n",
       "      <td>-0.40780</td>\n",
       "      <td>-0.9194</td>\n",
       "    </tr>\n",
       "    <tr>\n",
       "      <th>4</th>\n",
       "      <td>train</td>\n",
       "      <td>343523</td>\n",
       "      <td>200000.0</td>\n",
       "      <td>2014-03-01</td>\n",
       "      <td>3/1/15 0:00</td>\n",
       "      <td>get</td>\n",
       "      <td>Manesar</td>\n",
       "      <td>m</td>\n",
       "      <td>2/27/91 0:00</td>\n",
       "      <td>78.0</td>\n",
       "      <td>...</td>\n",
       "      <td>-1</td>\n",
       "      <td>-1</td>\n",
       "      <td>-1</td>\n",
       "      <td>-1</td>\n",
       "      <td>-1</td>\n",
       "      <td>-0.8810</td>\n",
       "      <td>-0.2793</td>\n",
       "      <td>-1.0697</td>\n",
       "      <td>0.09163</td>\n",
       "      <td>-0.1295</td>\n",
       "    </tr>\n",
       "  </tbody>\n",
       "</table>\n",
       "<p>5 rows × 39 columns</p>\n",
       "</div>"
      ],
      "text/plain": [
       "  Unnamed: 0      ID     Salary        DOJ          DOL  \\\n",
       "0      train  203097   420000.0 2012-06-01      present   \n",
       "1      train  579905   500000.0 2013-09-01      present   \n",
       "2      train  810601   325000.0 2014-06-01      present   \n",
       "3      train  267447  1100000.0 2011-07-01      present   \n",
       "4      train  343523   200000.0 2014-03-01  3/1/15 0:00   \n",
       "\n",
       "                Designation    JobCity Gender           DOB  10percentage  \\\n",
       "0   senior quality engineer  Bangalore      f  2/19/90 0:00          84.3   \n",
       "1         assistant manager     Indore      m  10/4/89 0:00          85.4   \n",
       "2          systems engineer    Chennai      f   8/3/92 0:00          85.0   \n",
       "3  senior software engineer    Gurgaon      m  12/5/89 0:00          85.6   \n",
       "4                       get    Manesar      m  2/27/91 0:00          78.0   \n",
       "\n",
       "   ... ComputerScience  MechanicalEngg  ElectricalEngg TelecomEngg  CivilEngg  \\\n",
       "0  ...              -1              -1              -1          -1         -1   \n",
       "1  ...              -1              -1              -1          -1         -1   \n",
       "2  ...              -1              -1              -1          -1         -1   \n",
       "3  ...              -1              -1              -1          -1         -1   \n",
       "4  ...              -1              -1              -1          -1         -1   \n",
       "\n",
       "   conscientiousness agreeableness extraversion  nueroticism  \\\n",
       "0             0.9737        0.8128       0.5269      1.35490   \n",
       "1            -0.7335        0.3789       1.2396     -0.10760   \n",
       "2             0.2718        1.7109       0.1637     -0.86820   \n",
       "3             0.0464        0.3448      -0.3440     -0.40780   \n",
       "4            -0.8810       -0.2793      -1.0697      0.09163   \n",
       "\n",
       "   openess_to_experience  \n",
       "0                -0.4455  \n",
       "1                 0.8637  \n",
       "2                 0.6721  \n",
       "3                -0.9194  \n",
       "4                -0.1295  \n",
       "\n",
       "[5 rows x 39 columns]"
      ]
     },
     "execution_count": 74,
     "metadata": {},
     "output_type": "execute_result"
    }
   ],
   "source": [
    "df.head()"
   ]
  },
  {
   "cell_type": "code",
   "execution_count": 148,
   "id": "5a453f7f",
   "metadata": {},
   "outputs": [],
   "source": [
    "df['10board'] = df['10board'].astype(str)\n",
    "df['12board'] = df['12board'].astype(str)\n",
    "df['JobCity'] = df['JobCity'].astype(str)"
   ]
  },
  {
   "cell_type": "code",
   "execution_count": 149,
   "id": "a9d1ebee",
   "metadata": {},
   "outputs": [],
   "source": [
    "df['10board'] = df['10board'].replace({'0':np.nan})\n",
    "df['12board'] = df['12board'].replace({'0':np.nan})\n",
    "df['GraduationYear'] = df['GraduationYear'].replace({0:np.nan})\n",
    "df['JobCity'] = df['JobCity'].replace({'-1':np.nan})\n",
    "df['Domain'] = df['Domain'].replace({-1:np.nan})\n",
    "df['ElectronicsAndSemicon'] = df['ElectronicsAndSemicon'].replace({-1:0})\n",
    "df['ComputerScience'] = df['ComputerScience'].replace({-1:0})\n",
    "df['ComputerProgramming'] = df['ComputerProgramming'].replace({-1:np.nan})"
   ]
  },
  {
   "cell_type": "code",
   "execution_count": 151,
   "id": "ccd6fdf6",
   "metadata": {},
   "outputs": [
    {
     "data": {
      "text/html": [
       "<div>\n",
       "<style scoped>\n",
       "    .dataframe tbody tr th:only-of-type {\n",
       "        vertical-align: middle;\n",
       "    }\n",
       "\n",
       "    .dataframe tbody tr th {\n",
       "        vertical-align: top;\n",
       "    }\n",
       "\n",
       "    .dataframe thead th {\n",
       "        text-align: right;\n",
       "    }\n",
       "</style>\n",
       "<table border=\"1\" class=\"dataframe\">\n",
       "  <thead>\n",
       "    <tr style=\"text-align: right;\">\n",
       "      <th></th>\n",
       "      <th>Unnamed: 0</th>\n",
       "      <th>ID</th>\n",
       "      <th>Salary</th>\n",
       "      <th>DOJ</th>\n",
       "      <th>DOL</th>\n",
       "      <th>Designation</th>\n",
       "      <th>JobCity</th>\n",
       "      <th>Gender</th>\n",
       "      <th>DOB</th>\n",
       "      <th>10percentage</th>\n",
       "      <th>...</th>\n",
       "      <th>ComputerScience</th>\n",
       "      <th>MechanicalEngg</th>\n",
       "      <th>ElectricalEngg</th>\n",
       "      <th>TelecomEngg</th>\n",
       "      <th>CivilEngg</th>\n",
       "      <th>conscientiousness</th>\n",
       "      <th>agreeableness</th>\n",
       "      <th>extraversion</th>\n",
       "      <th>nueroticism</th>\n",
       "      <th>openess_to_experience</th>\n",
       "    </tr>\n",
       "  </thead>\n",
       "  <tbody>\n",
       "    <tr>\n",
       "      <th>0</th>\n",
       "      <td>train</td>\n",
       "      <td>203097</td>\n",
       "      <td>420000.0</td>\n",
       "      <td>2012-06-01</td>\n",
       "      <td>present</td>\n",
       "      <td>senior quality engineer</td>\n",
       "      <td>Bangalore</td>\n",
       "      <td>f</td>\n",
       "      <td>2/19/90 0:00</td>\n",
       "      <td>84.3</td>\n",
       "      <td>...</td>\n",
       "      <td>0</td>\n",
       "      <td>-1</td>\n",
       "      <td>-1</td>\n",
       "      <td>-1</td>\n",
       "      <td>-1</td>\n",
       "      <td>0.9737</td>\n",
       "      <td>0.8128</td>\n",
       "      <td>0.5269</td>\n",
       "      <td>1.35490</td>\n",
       "      <td>-0.4455</td>\n",
       "    </tr>\n",
       "    <tr>\n",
       "      <th>1</th>\n",
       "      <td>train</td>\n",
       "      <td>579905</td>\n",
       "      <td>500000.0</td>\n",
       "      <td>2013-09-01</td>\n",
       "      <td>present</td>\n",
       "      <td>assistant manager</td>\n",
       "      <td>Indore</td>\n",
       "      <td>m</td>\n",
       "      <td>10/4/89 0:00</td>\n",
       "      <td>85.4</td>\n",
       "      <td>...</td>\n",
       "      <td>0</td>\n",
       "      <td>-1</td>\n",
       "      <td>-1</td>\n",
       "      <td>-1</td>\n",
       "      <td>-1</td>\n",
       "      <td>-0.7335</td>\n",
       "      <td>0.3789</td>\n",
       "      <td>1.2396</td>\n",
       "      <td>-0.10760</td>\n",
       "      <td>0.8637</td>\n",
       "    </tr>\n",
       "    <tr>\n",
       "      <th>2</th>\n",
       "      <td>train</td>\n",
       "      <td>810601</td>\n",
       "      <td>325000.0</td>\n",
       "      <td>2014-06-01</td>\n",
       "      <td>present</td>\n",
       "      <td>systems engineer</td>\n",
       "      <td>Chennai</td>\n",
       "      <td>f</td>\n",
       "      <td>8/3/92 0:00</td>\n",
       "      <td>85.0</td>\n",
       "      <td>...</td>\n",
       "      <td>0</td>\n",
       "      <td>-1</td>\n",
       "      <td>-1</td>\n",
       "      <td>-1</td>\n",
       "      <td>-1</td>\n",
       "      <td>0.2718</td>\n",
       "      <td>1.7109</td>\n",
       "      <td>0.1637</td>\n",
       "      <td>-0.86820</td>\n",
       "      <td>0.6721</td>\n",
       "    </tr>\n",
       "    <tr>\n",
       "      <th>3</th>\n",
       "      <td>train</td>\n",
       "      <td>267447</td>\n",
       "      <td>1100000.0</td>\n",
       "      <td>2011-07-01</td>\n",
       "      <td>present</td>\n",
       "      <td>senior software engineer</td>\n",
       "      <td>Gurgaon</td>\n",
       "      <td>m</td>\n",
       "      <td>12/5/89 0:00</td>\n",
       "      <td>85.6</td>\n",
       "      <td>...</td>\n",
       "      <td>0</td>\n",
       "      <td>-1</td>\n",
       "      <td>-1</td>\n",
       "      <td>-1</td>\n",
       "      <td>-1</td>\n",
       "      <td>0.0464</td>\n",
       "      <td>0.3448</td>\n",
       "      <td>-0.3440</td>\n",
       "      <td>-0.40780</td>\n",
       "      <td>-0.9194</td>\n",
       "    </tr>\n",
       "    <tr>\n",
       "      <th>4</th>\n",
       "      <td>train</td>\n",
       "      <td>343523</td>\n",
       "      <td>200000.0</td>\n",
       "      <td>2014-03-01</td>\n",
       "      <td>3/1/15 0:00</td>\n",
       "      <td>get</td>\n",
       "      <td>Manesar</td>\n",
       "      <td>m</td>\n",
       "      <td>2/27/91 0:00</td>\n",
       "      <td>78.0</td>\n",
       "      <td>...</td>\n",
       "      <td>0</td>\n",
       "      <td>-1</td>\n",
       "      <td>-1</td>\n",
       "      <td>-1</td>\n",
       "      <td>-1</td>\n",
       "      <td>-0.8810</td>\n",
       "      <td>-0.2793</td>\n",
       "      <td>-1.0697</td>\n",
       "      <td>0.09163</td>\n",
       "      <td>-0.1295</td>\n",
       "    </tr>\n",
       "  </tbody>\n",
       "</table>\n",
       "<p>5 rows × 39 columns</p>\n",
       "</div>"
      ],
      "text/plain": [
       "  Unnamed: 0      ID     Salary        DOJ          DOL  \\\n",
       "0      train  203097   420000.0 2012-06-01      present   \n",
       "1      train  579905   500000.0 2013-09-01      present   \n",
       "2      train  810601   325000.0 2014-06-01      present   \n",
       "3      train  267447  1100000.0 2011-07-01      present   \n",
       "4      train  343523   200000.0 2014-03-01  3/1/15 0:00   \n",
       "\n",
       "                Designation    JobCity Gender           DOB  10percentage  \\\n",
       "0   senior quality engineer  Bangalore      f  2/19/90 0:00          84.3   \n",
       "1         assistant manager     Indore      m  10/4/89 0:00          85.4   \n",
       "2          systems engineer    Chennai      f   8/3/92 0:00          85.0   \n",
       "3  senior software engineer    Gurgaon      m  12/5/89 0:00          85.6   \n",
       "4                       get    Manesar      m  2/27/91 0:00          78.0   \n",
       "\n",
       "   ... ComputerScience  MechanicalEngg  ElectricalEngg TelecomEngg  CivilEngg  \\\n",
       "0  ...               0              -1              -1          -1         -1   \n",
       "1  ...               0              -1              -1          -1         -1   \n",
       "2  ...               0              -1              -1          -1         -1   \n",
       "3  ...               0              -1              -1          -1         -1   \n",
       "4  ...               0              -1              -1          -1         -1   \n",
       "\n",
       "   conscientiousness agreeableness extraversion  nueroticism  \\\n",
       "0             0.9737        0.8128       0.5269      1.35490   \n",
       "1            -0.7335        0.3789       1.2396     -0.10760   \n",
       "2             0.2718        1.7109       0.1637     -0.86820   \n",
       "3             0.0464        0.3448      -0.3440     -0.40780   \n",
       "4            -0.8810       -0.2793      -1.0697      0.09163   \n",
       "\n",
       "   openess_to_experience  \n",
       "0                -0.4455  \n",
       "1                 0.8637  \n",
       "2                 0.6721  \n",
       "3                -0.9194  \n",
       "4                -0.1295  \n",
       "\n",
       "[5 rows x 39 columns]"
      ]
     },
     "execution_count": 151,
     "metadata": {},
     "output_type": "execute_result"
    }
   ],
   "source": [
    "df.head()"
   ]
  },
  {
   "cell_type": "code",
   "execution_count": 152,
   "id": "6fc193f3",
   "metadata": {},
   "outputs": [],
   "source": [
    "df = df.drop(columns = ['MechanicalEngg', 'ElectricalEngg', 'TelecomEngg', 'CivilEngg'])\n"
   ]
  },
  {
   "cell_type": "code",
   "execution_count": 153,
   "id": "f7f62731",
   "metadata": {},
   "outputs": [
    {
     "data": {
      "text/html": [
       "<div>\n",
       "<style scoped>\n",
       "    .dataframe tbody tr th:only-of-type {\n",
       "        vertical-align: middle;\n",
       "    }\n",
       "\n",
       "    .dataframe tbody tr th {\n",
       "        vertical-align: top;\n",
       "    }\n",
       "\n",
       "    .dataframe thead th {\n",
       "        text-align: right;\n",
       "    }\n",
       "</style>\n",
       "<table border=\"1\" class=\"dataframe\">\n",
       "  <thead>\n",
       "    <tr style=\"text-align: right;\">\n",
       "      <th></th>\n",
       "      <th>Unnamed: 0</th>\n",
       "      <th>ID</th>\n",
       "      <th>Salary</th>\n",
       "      <th>DOJ</th>\n",
       "      <th>DOL</th>\n",
       "      <th>Designation</th>\n",
       "      <th>JobCity</th>\n",
       "      <th>Gender</th>\n",
       "      <th>DOB</th>\n",
       "      <th>10percentage</th>\n",
       "      <th>...</th>\n",
       "      <th>Quant</th>\n",
       "      <th>Domain</th>\n",
       "      <th>ComputerProgramming</th>\n",
       "      <th>ElectronicsAndSemicon</th>\n",
       "      <th>ComputerScience</th>\n",
       "      <th>conscientiousness</th>\n",
       "      <th>agreeableness</th>\n",
       "      <th>extraversion</th>\n",
       "      <th>nueroticism</th>\n",
       "      <th>openess_to_experience</th>\n",
       "    </tr>\n",
       "  </thead>\n",
       "  <tbody>\n",
       "    <tr>\n",
       "      <th>0</th>\n",
       "      <td>train</td>\n",
       "      <td>203097</td>\n",
       "      <td>420000.0</td>\n",
       "      <td>2012-06-01</td>\n",
       "      <td>present</td>\n",
       "      <td>senior quality engineer</td>\n",
       "      <td>Bangalore</td>\n",
       "      <td>f</td>\n",
       "      <td>2/19/90 0:00</td>\n",
       "      <td>84.3</td>\n",
       "      <td>...</td>\n",
       "      <td>525</td>\n",
       "      <td>0.635979</td>\n",
       "      <td>445.0</td>\n",
       "      <td>0</td>\n",
       "      <td>0</td>\n",
       "      <td>0.9737</td>\n",
       "      <td>0.8128</td>\n",
       "      <td>0.5269</td>\n",
       "      <td>1.35490</td>\n",
       "      <td>-0.4455</td>\n",
       "    </tr>\n",
       "    <tr>\n",
       "      <th>1</th>\n",
       "      <td>train</td>\n",
       "      <td>579905</td>\n",
       "      <td>500000.0</td>\n",
       "      <td>2013-09-01</td>\n",
       "      <td>present</td>\n",
       "      <td>assistant manager</td>\n",
       "      <td>Indore</td>\n",
       "      <td>m</td>\n",
       "      <td>10/4/89 0:00</td>\n",
       "      <td>85.4</td>\n",
       "      <td>...</td>\n",
       "      <td>780</td>\n",
       "      <td>0.960603</td>\n",
       "      <td>NaN</td>\n",
       "      <td>466</td>\n",
       "      <td>0</td>\n",
       "      <td>-0.7335</td>\n",
       "      <td>0.3789</td>\n",
       "      <td>1.2396</td>\n",
       "      <td>-0.10760</td>\n",
       "      <td>0.8637</td>\n",
       "    </tr>\n",
       "    <tr>\n",
       "      <th>2</th>\n",
       "      <td>train</td>\n",
       "      <td>810601</td>\n",
       "      <td>325000.0</td>\n",
       "      <td>2014-06-01</td>\n",
       "      <td>present</td>\n",
       "      <td>systems engineer</td>\n",
       "      <td>Chennai</td>\n",
       "      <td>f</td>\n",
       "      <td>8/3/92 0:00</td>\n",
       "      <td>85.0</td>\n",
       "      <td>...</td>\n",
       "      <td>370</td>\n",
       "      <td>0.450877</td>\n",
       "      <td>395.0</td>\n",
       "      <td>0</td>\n",
       "      <td>0</td>\n",
       "      <td>0.2718</td>\n",
       "      <td>1.7109</td>\n",
       "      <td>0.1637</td>\n",
       "      <td>-0.86820</td>\n",
       "      <td>0.6721</td>\n",
       "    </tr>\n",
       "    <tr>\n",
       "      <th>3</th>\n",
       "      <td>train</td>\n",
       "      <td>267447</td>\n",
       "      <td>1100000.0</td>\n",
       "      <td>2011-07-01</td>\n",
       "      <td>present</td>\n",
       "      <td>senior software engineer</td>\n",
       "      <td>Gurgaon</td>\n",
       "      <td>m</td>\n",
       "      <td>12/5/89 0:00</td>\n",
       "      <td>85.6</td>\n",
       "      <td>...</td>\n",
       "      <td>625</td>\n",
       "      <td>0.974396</td>\n",
       "      <td>615.0</td>\n",
       "      <td>0</td>\n",
       "      <td>0</td>\n",
       "      <td>0.0464</td>\n",
       "      <td>0.3448</td>\n",
       "      <td>-0.3440</td>\n",
       "      <td>-0.40780</td>\n",
       "      <td>-0.9194</td>\n",
       "    </tr>\n",
       "    <tr>\n",
       "      <th>4</th>\n",
       "      <td>train</td>\n",
       "      <td>343523</td>\n",
       "      <td>200000.0</td>\n",
       "      <td>2014-03-01</td>\n",
       "      <td>3/1/15 0:00</td>\n",
       "      <td>get</td>\n",
       "      <td>Manesar</td>\n",
       "      <td>m</td>\n",
       "      <td>2/27/91 0:00</td>\n",
       "      <td>78.0</td>\n",
       "      <td>...</td>\n",
       "      <td>465</td>\n",
       "      <td>0.124502</td>\n",
       "      <td>NaN</td>\n",
       "      <td>233</td>\n",
       "      <td>0</td>\n",
       "      <td>-0.8810</td>\n",
       "      <td>-0.2793</td>\n",
       "      <td>-1.0697</td>\n",
       "      <td>0.09163</td>\n",
       "      <td>-0.1295</td>\n",
       "    </tr>\n",
       "  </tbody>\n",
       "</table>\n",
       "<p>5 rows × 35 columns</p>\n",
       "</div>"
      ],
      "text/plain": [
       "  Unnamed: 0      ID     Salary        DOJ          DOL  \\\n",
       "0      train  203097   420000.0 2012-06-01      present   \n",
       "1      train  579905   500000.0 2013-09-01      present   \n",
       "2      train  810601   325000.0 2014-06-01      present   \n",
       "3      train  267447  1100000.0 2011-07-01      present   \n",
       "4      train  343523   200000.0 2014-03-01  3/1/15 0:00   \n",
       "\n",
       "                Designation    JobCity Gender           DOB  10percentage  \\\n",
       "0   senior quality engineer  Bangalore      f  2/19/90 0:00          84.3   \n",
       "1         assistant manager     Indore      m  10/4/89 0:00          85.4   \n",
       "2          systems engineer    Chennai      f   8/3/92 0:00          85.0   \n",
       "3  senior software engineer    Gurgaon      m  12/5/89 0:00          85.6   \n",
       "4                       get    Manesar      m  2/27/91 0:00          78.0   \n",
       "\n",
       "   ... Quant    Domain  ComputerProgramming ElectronicsAndSemicon  \\\n",
       "0  ...   525  0.635979                445.0                     0   \n",
       "1  ...   780  0.960603                  NaN                   466   \n",
       "2  ...   370  0.450877                395.0                     0   \n",
       "3  ...   625  0.974396                615.0                     0   \n",
       "4  ...   465  0.124502                  NaN                   233   \n",
       "\n",
       "   ComputerScience  conscientiousness agreeableness extraversion  nueroticism  \\\n",
       "0                0             0.9737        0.8128       0.5269      1.35490   \n",
       "1                0            -0.7335        0.3789       1.2396     -0.10760   \n",
       "2                0             0.2718        1.7109       0.1637     -0.86820   \n",
       "3                0             0.0464        0.3448      -0.3440     -0.40780   \n",
       "4                0            -0.8810       -0.2793      -1.0697      0.09163   \n",
       "\n",
       "   openess_to_experience  \n",
       "0                -0.4455  \n",
       "1                 0.8637  \n",
       "2                 0.6721  \n",
       "3                -0.9194  \n",
       "4                -0.1295  \n",
       "\n",
       "[5 rows x 35 columns]"
      ]
     },
     "execution_count": 153,
     "metadata": {},
     "output_type": "execute_result"
    }
   ],
   "source": [
    "df.head()"
   ]
  },
  {
   "cell_type": "code",
   "execution_count": 157,
   "id": "6470eae5",
   "metadata": {},
   "outputs": [],
   "source": [
    "df['10board'].fillna(df['10board'].mode()[0],inplace = True)\n",
    "df['12board'].fillna(df['12board'].mode()[0],inplace = True)\n",
    "df['GraduationYear'].fillna(df['GraduationYear'].mode()[0],inplace = True)\n",
    "df['JobCity'].fillna(df['JobCity'].mode()[0],inplace = True)"
   ]
  },
  {
   "cell_type": "code",
   "execution_count": 156,
   "id": "6ca2a7ff",
   "metadata": {},
   "outputs": [],
   "source": [
    "df['Domain'].fillna(df['Domain'].median(),inplace = True)\n",
    "df['ComputerProgramming'].fillna(df['ComputerProgramming'].median(),inplace = True)"
   ]
  },
  {
   "cell_type": "code",
   "execution_count": null,
   "id": "d43aeaab",
   "metadata": {},
   "outputs": [],
   "source": []
  },
  {
   "cell_type": "markdown",
   "id": "58bd5438",
   "metadata": {},
   "source": [
    "# Analysing Salary feature"
   ]
  },
  {
   "cell_type": "code",
   "execution_count": 75,
   "id": "af8f0542",
   "metadata": {},
   "outputs": [
    {
     "data": {
      "text/plain": [
       "305052.3153942428"
      ]
     },
     "execution_count": 75,
     "metadata": {},
     "output_type": "execute_result"
    }
   ],
   "source": [
    "df['Salary'].mean()"
   ]
  },
  {
   "cell_type": "code",
   "execution_count": 76,
   "id": "c67abc99",
   "metadata": {},
   "outputs": [
    {
     "data": {
      "text/plain": [
       "300000.0"
      ]
     },
     "execution_count": 76,
     "metadata": {},
     "output_type": "execute_result"
    }
   ],
   "source": [
    "df['Salary'].median()"
   ]
  },
  {
   "cell_type": "code",
   "execution_count": 77,
   "id": "566abd84",
   "metadata": {},
   "outputs": [
    {
     "data": {
      "text/plain": [
       "35000.0"
      ]
     },
     "execution_count": 77,
     "metadata": {},
     "output_type": "execute_result"
    }
   ],
   "source": [
    "# what is the min salary?\n",
    "\n",
    "df['Salary'].min()"
   ]
  },
  {
   "cell_type": "code",
   "execution_count": 78,
   "id": "c232e301",
   "metadata": {},
   "outputs": [
    {
     "data": {
      "text/plain": [
       "3000000.0"
      ]
     },
     "execution_count": 78,
     "metadata": {},
     "output_type": "execute_result"
    }
   ],
   "source": [
    "# what is the max salary?\n",
    "\n",
    "df['Salary'].max()"
   ]
  },
  {
   "cell_type": "code",
   "execution_count": 79,
   "id": "18ac3680",
   "metadata": {},
   "outputs": [
    {
     "data": {
      "text/plain": [
       "180000.0"
      ]
     },
     "execution_count": 79,
     "metadata": {},
     "output_type": "execute_result"
    }
   ],
   "source": [
    "# What is the 25th percentile of salary?\n",
    "df['Salary'].quantile(0.25)"
   ]
  },
  {
   "cell_type": "code",
   "execution_count": 80,
   "id": "c52f8f04",
   "metadata": {},
   "outputs": [
    {
     "data": {
      "text/plain": [
       "189488.58515059476"
      ]
     },
     "execution_count": 80,
     "metadata": {},
     "output_type": "execute_result"
    }
   ],
   "source": [
    "# what is the spread of salary with respect to mean?\n",
    "\n",
    "df['Salary'].std()\n"
   ]
  },
  {
   "cell_type": "code",
   "execution_count": 81,
   "id": "33f32c83",
   "metadata": {},
   "outputs": [
    {
     "data": {
      "text/plain": [
       "38.18224171729704"
      ]
     },
     "execution_count": 81,
     "metadata": {},
     "output_type": "execute_result"
    }
   ],
   "source": [
    "# Is the Salary distribution has tail and peak like normal distribution?\n",
    "\n",
    "df['Salary'].kurt()"
   ]
  },
  {
   "cell_type": "code",
   "execution_count": 35,
   "id": "c8699bbe",
   "metadata": {},
   "outputs": [
    {
     "data": {
      "text/plain": [
       "<AxesSubplot:ylabel='Density'>"
      ]
     },
     "execution_count": 35,
     "metadata": {},
     "output_type": "execute_result"
    },
    {
     "data": {
      "image/png": "[encoded data removed]",
      "text/plain": [
       "<Figure size 432x288 with 1 Axes>"
      ]
     },
     "metadata": {
      "needs_background": "light"
     },
     "output_type": "display_data"
    }
   ],
   "source": [
    "df['Salary'].plot(kind='kde')"
   ]
  },
  {
   "cell_type": "code",
   "execution_count": 82,
   "id": "d6130896",
   "metadata": {},
   "outputs": [
    {
     "data": {
      "text/plain": [
       "<AxesSubplot:>"
      ]
     },
     "execution_count": 82,
     "metadata": {},
     "output_type": "execute_result"
    },
    {
     "data": {
      "image/png": "[encoded data removed]",
      "text/plain": [
       "<Figure size 432x288 with 1 Axes>"
      ]
     },
     "metadata": {
      "needs_background": "light"
     },
     "output_type": "display_data"
    }
   ],
   "source": [
    "df['Salary'].plot(kind='box')              ## There are some extreme outliers shown in boxplot"
   ]
  },
  {
   "cell_type": "code",
   "execution_count": 83,
   "id": "12f95cb4",
   "metadata": {},
   "outputs": [
    {
     "data": {
      "text/plain": [
       "<AxesSubplot:ylabel='Frequency'>"
      ]
     },
     "execution_count": 83,
     "metadata": {},
     "output_type": "execute_result"
    },
    {
     "data": {
      "image/png": "[encoded data removed]",
      "text/plain": [
       "<Figure size 432x288 with 1 Axes>"
      ]
     },
     "metadata": {
      "needs_background": "light"
     },
     "output_type": "display_data"
    }
   ],
   "source": [
    "df['Salary'].plot(kind='hist')"
   ]
  },
  {
   "cell_type": "code",
   "execution_count": 40,
   "id": "41d78261",
   "metadata": {},
   "outputs": [],
   "source": [
    "from scipy import stats\n"
   ]
  },
  {
   "cell_type": "code",
   "execution_count": 85,
   "id": "1c77a244",
   "metadata": {},
   "outputs": [
    {
     "data": {
      "image/png": "[encoded data removed]",
      "text/plain": [
       "<Figure size 432x288 with 1 Axes>"
      ]
     },
     "metadata": {
      "needs_background": "light"
     },
     "output_type": "display_data"
    }
   ],
   "source": [
    "stats.probplot(df['Salary'],dist=\"norm\",plot=plt) # QQ plot - purpose - to identify the type of distribution\n",
    "plt.grid()"
   ]
  },
  {
   "cell_type": "code",
   "execution_count": 160,
   "id": "71dbfeda",
   "metadata": {},
   "outputs": [
    {
     "data": {
      "text/plain": [
       "77.92873341677097"
      ]
     },
     "execution_count": 160,
     "metadata": {},
     "output_type": "execute_result"
    }
   ],
   "source": [
    "df['10percentage'].mean()\n",
    "\n"
   ]
  },
  {
   "cell_type": "code",
   "execution_count": 161,
   "id": "b9932ceb",
   "metadata": {},
   "outputs": [
    {
     "data": {
      "text/plain": [
       "43.0"
      ]
     },
     "execution_count": 161,
     "metadata": {},
     "output_type": "execute_result"
    }
   ],
   "source": [
    "df['10percentage'].min()"
   ]
  },
  {
   "cell_type": "code",
   "execution_count": 162,
   "id": "8e898044",
   "metadata": {},
   "outputs": [
    {
     "data": {
      "text/plain": [
       "97.76"
      ]
     },
     "execution_count": 162,
     "metadata": {},
     "output_type": "execute_result"
    }
   ],
   "source": [
    "df['10percentage'].max()\n"
   ]
  },
  {
   "cell_type": "code",
   "execution_count": 163,
   "id": "5eb43e54",
   "metadata": {},
   "outputs": [
    {
     "data": {
      "text/plain": [
       "71.69"
      ]
     },
     "execution_count": 163,
     "metadata": {},
     "output_type": "execute_result"
    }
   ],
   "source": [
    "df['10percentage'].quantile(0.25)\n"
   ]
  },
  {
   "cell_type": "code",
   "execution_count": 164,
   "id": "3a400039",
   "metadata": {},
   "outputs": [
    {
     "data": {
      "text/plain": [
       "9.843830705177762"
      ]
     },
     "execution_count": 164,
     "metadata": {},
     "output_type": "execute_result"
    }
   ],
   "source": [
    "df['10percentage'].std()\n"
   ]
  },
  {
   "cell_type": "code",
   "execution_count": 166,
   "id": "19b2556b",
   "metadata": {},
   "outputs": [
    {
     "data": {
      "text/plain": [
       "-0.11091614350535339"
      ]
     },
     "execution_count": 166,
     "metadata": {},
     "output_type": "execute_result"
    }
   ],
   "source": [
    "df['10percentage'].kurt()\n"
   ]
  },
  {
   "cell_type": "code",
   "execution_count": 167,
   "id": "ea8822fc",
   "metadata": {},
   "outputs": [
    {
     "data": {
      "text/plain": [
       "<AxesSubplot:ylabel='Density'>"
      ]
     },
     "execution_count": 167,
     "metadata": {},
     "output_type": "execute_result"
    },
    {
     "data": {
      "image/png": "[encoded data removed]",
      "text/plain": [
       "<Figure size 432x288 with 1 Axes>"
      ]
     },
     "metadata": {
      "needs_background": "light"
     },
     "output_type": "display_data"
    }
   ],
   "source": [
    "df['10percentage'].plot(kind='kde')"
   ]
  },
  {
   "cell_type": "code",
   "execution_count": 169,
   "id": "aea4bccd",
   "metadata": {},
   "outputs": [
    {
     "data": {
      "image/png": "[encoded data removed]",
      "text/plain": [
       "<Figure size 432x360 with 1 Axes>"
      ]
     },
     "metadata": {
      "needs_background": "light"
     },
     "output_type": "display_data"
    }
   ],
   "source": [
    "def cdf(data):\n",
    "    x = np.sort(data)\n",
    "    y = np.arange(1, len(x)+1)/len(x)\n",
    "    return x, y\n",
    "\n",
    "plt.figure(figsize=(6,5))\n",
    "x_10, y_10 = cdf(df['10percentage'])\n",
    "x_sample_10 , y_sample_10 = \\\n",
    "cdf(np.random.normal(df['10percentage'].mean(), df['10percentage'].std(),size = len(df['10percentage'])))\n",
    "plt.plot(x_10, y_10, linestyle = 'None',\n",
    "        marker = '.', color = 'Red',\n",
    "         alpha = 0.7, label = '10th %')\n",
    "plt.plot(x_sample_10, y_sample_10, linestyle = 'None',\n",
    "        marker ='.', color = 'green',\n",
    "        alpha = 0.7, label = 'Normal Distribution')\n",
    "plt.xlabel('10th Percentage')\n",
    "plt.ylabel('CDF')\n",
    "plt.legend()\n",
    "plt.tight_layout()\n",
    "plt.show()                                                            ## This graph is having skewness and not normally distributed"
   ]
  },
  {
   "cell_type": "code",
   "execution_count": 170,
   "id": "a8025875",
   "metadata": {},
   "outputs": [
    {
     "data": {
      "text/plain": [
       "<AxesSubplot:>"
      ]
     },
     "execution_count": 170,
     "metadata": {},
     "output_type": "execute_result"
    },
    {
     "data": {
      "image/png": "[encoded data removed]",
      "text/plain": [
       "<Figure size 432x288 with 1 Axes>"
      ]
     },
     "metadata": {
      "needs_background": "light"
     },
     "output_type": "display_data"
    }
   ],
   "source": [
    "df['10percentage'].plot(kind='box')                              ### There are some extreme outlier shown in boxplot"
   ]
  },
  {
   "cell_type": "code",
   "execution_count": null,
   "id": "c6b52995",
   "metadata": {},
   "outputs": [],
   "source": [
    "collegeGPA"
   ]
  },
  {
   "cell_type": "code",
   "execution_count": 172,
   "id": "50e4cfed",
   "metadata": {},
   "outputs": [
    {
     "data": {
      "text/plain": [
       "6.45"
      ]
     },
     "execution_count": 172,
     "metadata": {},
     "output_type": "execute_result"
    }
   ],
   "source": [
    "df['collegeGPA'].min()"
   ]
  },
  {
   "cell_type": "code",
   "execution_count": 173,
   "id": "dd53ba28",
   "metadata": {},
   "outputs": [
    {
     "data": {
      "text/plain": [
       "99.93"
      ]
     },
     "execution_count": 173,
     "metadata": {},
     "output_type": "execute_result"
    }
   ],
   "source": [
    "df['collegeGPA'].max()\n"
   ]
  },
  {
   "cell_type": "code",
   "execution_count": 174,
   "id": "2dbd8d0c",
   "metadata": {},
   "outputs": [
    {
     "data": {
      "text/plain": [
       "66.415"
      ]
     },
     "execution_count": 174,
     "metadata": {},
     "output_type": "execute_result"
    }
   ],
   "source": [
    "df['collegeGPA'].quantile(0.25)\n"
   ]
  },
  {
   "cell_type": "code",
   "execution_count": 175,
   "id": "35dd010c",
   "metadata": {},
   "outputs": [
    {
     "data": {
      "text/plain": [
       "10.23033875241153"
      ]
     },
     "execution_count": 175,
     "metadata": {},
     "output_type": "execute_result"
    }
   ],
   "source": [
    "df['collegeGPA'].kurt()\n"
   ]
  },
  {
   "cell_type": "code",
   "execution_count": 176,
   "id": "bcddc6ea",
   "metadata": {},
   "outputs": [
    {
     "data": {
      "text/plain": [
       "<AxesSubplot:ylabel='Density'>"
      ]
     },
     "execution_count": 176,
     "metadata": {},
     "output_type": "execute_result"
    },
    {
     "data": {
      "image/png": "[encoded data removed]",
      "text/plain": [
       "<Figure size 432x288 with 1 Axes>"
      ]
     },
     "metadata": {
      "needs_background": "light"
     },
     "output_type": "display_data"
    }
   ],
   "source": [
    "df['collegeGPA'].plot(kind='kde')"
   ]
  },
  {
   "cell_type": "code",
   "execution_count": 177,
   "id": "95df925a",
   "metadata": {},
   "outputs": [
    {
     "data": {
      "image/png": "[encoded data removed]",
      "text/plain": [
       "<Figure size 432x360 with 1 Axes>"
      ]
     },
     "metadata": {
      "needs_background": "light"
     },
     "output_type": "display_data"
    }
   ],
   "source": [
    "plt.figure(figsize=(6,5))\n",
    "x_10, y_10 = cdf(df['collegeGPA'])\n",
    "x_sample_10 , y_sample_10 = \\\n",
    "cdf(np.random.normal(df['collegeGPA'].mean(), df['collegeGPA'].std(),size = len(df['collegeGPA'])))\n",
    "plt.plot(x_10, y_10, linestyle = 'None',\n",
    "        marker = '.', color = 'Red',\n",
    "         alpha = 0.7, label = '10th %')\n",
    "plt.plot(x_sample_10, y_sample_10, linestyle = 'None',\n",
    "        marker ='.', color = 'blue',\n",
    "        alpha = 0.7, label = 'Normal Distribution')\n",
    "plt.xlabel('collegeGPA')\n",
    "plt.ylabel('CDF')\n",
    "plt.legend()\n",
    "plt.tight_layout()\n",
    "plt.show()                                                            ## it seems to be normally distributed"
   ]
  },
  {
   "cell_type": "code",
   "execution_count": null,
   "id": "6b96e4fe",
   "metadata": {},
   "outputs": [],
   "source": []
  },
  {
   "cell_type": "code",
   "execution_count": 86,
   "id": "0dc5f233",
   "metadata": {},
   "outputs": [
    {
     "data": {
      "text/plain": [
       "<AxesSubplot:xlabel='Gender', ylabel='Salary'>"
      ]
     },
     "execution_count": 86,
     "metadata": {},
     "output_type": "execute_result"
    },
    {
     "data": {
      "image/png": "[encoded data removed]",
      "text/plain": [
       "<Figure size 432x288 with 1 Axes>"
      ]
     },
     "metadata": {
      "needs_background": "light"
     },
     "output_type": "display_data"
    }
   ],
   "source": [
    "##  Are Female earning more then male ?? \n",
    "Sa_df = df[df.Salary <= 3000000]     \n",
    "sns.boxplot(data=df, x='Gender', y='Salary')"
   ]
  },
  {
   "cell_type": "markdown",
   "id": "b7616dda",
   "metadata": {},
   "source": [
    "# Outlier Treatment"
   ]
  },
  {
   "cell_type": "code",
   "execution_count": 87,
   "id": "f6b9f1a4",
   "metadata": {},
   "outputs": [
    {
     "data": {
      "text/plain": [
       "<AxesSubplot:>"
      ]
     },
     "execution_count": 87,
     "metadata": {},
     "output_type": "execute_result"
    },
    {
     "data": {
      "image/png": "[encoded data removed]",
      "text/plain": [
       "<Figure size 432x288 with 1 Axes>"
      ]
     },
     "metadata": {
      "needs_background": "light"
     },
     "output_type": "display_data"
    }
   ],
   "source": [
    "\n",
    "clean_df = df[df.Salary <= 3000000]\n",
    "clean_df['Salary'].plot(kind='box')"
   ]
  },
  {
   "cell_type": "code",
   "execution_count": 88,
   "id": "42d2f56e",
   "metadata": {},
   "outputs": [
    {
     "data": {
      "text/plain": [
       "<AxesSubplot:ylabel='Density'>"
      ]
     },
     "execution_count": 88,
     "metadata": {},
     "output_type": "execute_result"
    },
    {
     "data": {
      "image/png": "[encoded data removed]",
      "text/plain": [
       "<Figure size 432x288 with 1 Axes>"
      ]
     },
     "metadata": {
      "needs_background": "light"
     },
     "output_type": "display_data"
    }
   ],
   "source": [
    "clean_df['Salary'].plot(kind='kde')"
   ]
  },
  {
   "cell_type": "code",
   "execution_count": 89,
   "id": "e1b06d78",
   "metadata": {},
   "outputs": [
    {
     "data": {
      "image/png": "[encoded data removed]",
      "text/plain": [
       "<Figure size 432x288 with 1 Axes>"
      ]
     },
     "metadata": {
      "needs_background": "light"
     },
     "output_type": "display_data"
    }
   ],
   "source": [
    "stats.probplot(clean_df['Salary'], dist=\"norm\", plot=plt)\n",
    "plt.grid()"
   ]
  },
  {
   "cell_type": "code",
   "execution_count": 90,
   "id": "78a23ec4",
   "metadata": {},
   "outputs": [
    {
     "data": {
      "text/plain": [
       "<AxesSubplot:>"
      ]
     },
     "execution_count": 90,
     "metadata": {},
     "output_type": "execute_result"
    },
    {
     "data": {
      "image/png": "[encoded data removed]",
      "text/plain": [
       "<Figure size 432x288 with 1 Axes>"
      ]
     },
     "metadata": {
      "needs_background": "light"
     },
     "output_type": "display_data"
    }
   ],
   "source": [
    "# 1.5 IQR\n",
    "\n",
    "q1 = df['Salary'].quantile(0.25)\n",
    "q3 = df['Salary'].quantile(0.75)\n",
    "\n",
    "IQR = q3-q1\n",
    "\n",
    "income_lower_bound = q1 - 1.5*IQR\n",
    "income_upper_bound = q3 + 1.5*IQR\n",
    "\n",
    "clean_df = df[(df['Salary'] >= income_lower_bound) & (df[\"Salary\"] <= income_upper_bound)]\n",
    "\n",
    "clean_df['Salary'].plot(kind='box')"
   ]
  },
  {
   "cell_type": "code",
   "execution_count": 91,
   "id": "900e2a1c",
   "metadata": {},
   "outputs": [
    {
     "data": {
      "text/plain": [
       "<AxesSubplot:ylabel='Density'>"
      ]
     },
     "execution_count": 91,
     "metadata": {},
     "output_type": "execute_result"
    },
    {
     "data": {
      "image/png": "[encoded data removed]",
      "text/plain": [
       "<Figure size 432x288 with 1 Axes>"
      ]
     },
     "metadata": {
      "needs_background": "light"
     },
     "output_type": "display_data"
    }
   ],
   "source": [
    "clean_df['Salary'].plot(kind='kde')"
   ]
  },
  {
   "cell_type": "code",
   "execution_count": 92,
   "id": "a1b42f4c",
   "metadata": {},
   "outputs": [
    {
     "data": {
      "image/png": "[encoded data removed]",
      "text/plain": [
       "<Figure size 432x288 with 1 Axes>"
      ]
     },
     "metadata": {
      "needs_background": "light"
     },
     "output_type": "display_data"
    }
   ],
   "source": [
    "stats.probplot(clean_df['Salary'], dist=\"norm\", plot=plt)\n",
    "plt.grid()                                                          ## After treating outlier we can say that it is normally distributed"
   ]
  },
  {
   "cell_type": "code",
   "execution_count": 93,
   "id": "7bcfc0a6",
   "metadata": {},
   "outputs": [],
   "source": [
    "def numerical_univariate_analysis(numerical_data):\n",
    "    for col_name in numerical_data:\n",
    "        print(\"*\"*10, col_name, \"*\"*10)\n",
    "        print(numerical_data[col_name].agg(['min','max','mean','median','std','skew','kurt']))\n",
    "        print()"
   ]
  },
  {
   "cell_type": "markdown",
   "id": "f2e55cf1",
   "metadata": {},
   "source": [
    "## Analysing ComputerScience features"
   ]
  },
  {
   "cell_type": "code",
   "execution_count": 94,
   "id": "f6e56b32",
   "metadata": {},
   "outputs": [
    {
     "name": "stdout",
     "output_type": "stream",
     "text": [
      "********** ComputerScience **********\n",
      "min        -1.000000\n",
      "max       715.000000\n",
      "mean       90.811264\n",
      "median     -1.000000\n",
      "std       175.320855\n",
      "skew        1.528348\n",
      "kurt        0.688928\n",
      "Name: ComputerScience, dtype: float64\n",
      "\n"
     ]
    }
   ],
   "source": [
    "numerical_univariate_analysis(df[['ComputerScience']])  "
   ]
  },
  {
   "cell_type": "code",
   "execution_count": 95,
   "id": "2aab08fb",
   "metadata": {},
   "outputs": [
    {
     "data": {
      "text/plain": [
       "<AxesSubplot:ylabel='Density'>"
      ]
     },
     "execution_count": 95,
     "metadata": {},
     "output_type": "execute_result"
    },
    {
     "data": {
      "image/png": "[encoded data removed]",
      "text/plain": [
       "<Figure size 432x288 with 1 Axes>"
      ]
     },
     "metadata": {
      "needs_background": "light"
     },
     "output_type": "display_data"
    }
   ],
   "source": [
    "df['ComputerScience'].plot(kind='kde')"
   ]
  },
  {
   "cell_type": "code",
   "execution_count": 96,
   "id": "9db1bcd4",
   "metadata": {},
   "outputs": [
    {
     "name": "stdout",
     "output_type": "stream",
     "text": [
      "********** MechanicalEngg **********\n",
      "min        -1.000000\n",
      "max       623.000000\n",
      "mean       22.992741\n",
      "median     -1.000000\n",
      "std        98.157955\n",
      "skew        4.027784\n",
      "kurt       15.004104\n",
      "Name: MechanicalEngg, dtype: float64\n",
      "\n"
     ]
    }
   ],
   "source": [
    "numerical_univariate_analysis(df[['MechanicalEngg']])  "
   ]
  },
  {
   "cell_type": "code",
   "execution_count": 97,
   "id": "a8200e5a",
   "metadata": {},
   "outputs": [
    {
     "data": {
      "text/plain": [
       "<AxesSubplot:ylabel='Density'>"
      ]
     },
     "execution_count": 97,
     "metadata": {},
     "output_type": "execute_result"
    },
    {
     "data": {
      "image/png": "[encoded data removed]",
      "text/plain": [
       "<Figure size 432x288 with 1 Axes>"
      ]
     },
     "metadata": {
      "needs_background": "light"
     },
     "output_type": "display_data"
    }
   ],
   "source": [
    "df['MechanicalEngg'].plot(kind='kde')"
   ]
  },
  {
   "cell_type": "code",
   "execution_count": 98,
   "id": "e8b026d6",
   "metadata": {},
   "outputs": [],
   "source": [
    "def discrete_univariate_analysis(discrete_data):\n",
    "    for col_name in discrete_data:\n",
    "        print(\"*\"*10, col_name,\"*\"*10)\n",
    "        print(discrete_data[col_name].agg(['count', 'nunique','unique']))\n",
    "        print('Value Counts: \\n', discrete_data[col_name].value_counts(normalize=True))\n",
    "        print()\n",
    "        "
   ]
  },
  {
   "cell_type": "code",
   "execution_count": 99,
   "id": "6064f64c",
   "metadata": {},
   "outputs": [
    {
     "name": "stdout",
     "output_type": "stream",
     "text": [
      "********** Designation **********\n",
      "count                                                   3995\n",
      "nunique                                                  419\n",
      "unique     [senior quality engineer, assistant manager, s...\n",
      "Name: Designation, dtype: object\n",
      "Value Counts: \n",
      " software engineer                    0.134919\n",
      "software developer                   0.066333\n",
      "system engineer                      0.051314\n",
      "programmer analyst                   0.034793\n",
      "systems engineer                     0.029537\n",
      "                                       ...   \n",
      "cad drafter                          0.000250\n",
      "noc engineer                         0.000250\n",
      "human resources intern               0.000250\n",
      "senior quality assurance engineer    0.000250\n",
      "jr. software developer               0.000250\n",
      "Name: Designation, Length: 419, dtype: float64\n",
      "\n"
     ]
    }
   ],
   "source": [
    "discrete_univariate_analysis(df[['Designation']])"
   ]
  },
  {
   "cell_type": "code",
   "execution_count": 102,
   "id": "1e121e7e",
   "metadata": {},
   "outputs": [
    {
     "data": {
      "text/plain": [
       "array([[<AxesSubplot:ylabel='Frequency'>,\n",
       "        <AxesSubplot:ylabel='Frequency'>,\n",
       "        <AxesSubplot:ylabel='Frequency'>,\n",
       "        <AxesSubplot:ylabel='Frequency'>],\n",
       "       [<AxesSubplot:ylabel='Frequency'>,\n",
       "        <AxesSubplot:ylabel='Frequency'>,\n",
       "        <AxesSubplot:ylabel='Frequency'>,\n",
       "        <AxesSubplot:ylabel='Frequency'>],\n",
       "       [<AxesSubplot:ylabel='Frequency'>,\n",
       "        <AxesSubplot:ylabel='Frequency'>,\n",
       "        <AxesSubplot:ylabel='Frequency'>,\n",
       "        <AxesSubplot:ylabel='Frequency'>],\n",
       "       [<AxesSubplot:ylabel='Frequency'>,\n",
       "        <AxesSubplot:ylabel='Frequency'>,\n",
       "        <AxesSubplot:ylabel='Frequency'>,\n",
       "        <AxesSubplot:ylabel='Frequency'>]], dtype=object)"
      ]
     },
     "execution_count": 102,
     "metadata": {},
     "output_type": "execute_result"
    },
    {
     "data": {
      "image/png": "[encoded data removed]",
      "text/plain": [
       "<Figure size 720x720 with 16 Axes>"
      ]
     },
     "metadata": {
      "needs_background": "light"
     },
     "output_type": "display_data"
    }
   ],
   "source": [
    "df[numerical_features].plot(kind='hist', subplots=True, layout=(4, 4), figsize=(10, 10))\n"
   ]
  },
  {
   "cell_type": "code",
   "execution_count": 104,
   "id": "c294ae5f",
   "metadata": {},
   "outputs": [
    {
     "data": {
      "text/plain": [
       "ID                           AxesSubplot(0.125,0.71587;0.168478x0.16413)\n",
       "Salary                    AxesSubplot(0.327174,0.71587;0.168478x0.16413)\n",
       "GraduationYear            AxesSubplot(0.529348,0.71587;0.168478x0.16413)\n",
       "English                   AxesSubplot(0.731522,0.71587;0.168478x0.16413)\n",
       "Logical                     AxesSubplot(0.125,0.518913;0.168478x0.16413)\n",
       "Quant                    AxesSubplot(0.327174,0.518913;0.168478x0.16413)\n",
       "Domain                   AxesSubplot(0.529348,0.518913;0.168478x0.16413)\n",
       "ComputerProgramming      AxesSubplot(0.731522,0.518913;0.168478x0.16413)\n",
       "ElectronicsAndSemicon       AxesSubplot(0.125,0.321957;0.168478x0.16413)\n",
       "ComputerScience          AxesSubplot(0.327174,0.321957;0.168478x0.16413)\n",
       "MechanicalEngg           AxesSubplot(0.529348,0.321957;0.168478x0.16413)\n",
       "ElectricalEngg           AxesSubplot(0.731522,0.321957;0.168478x0.16413)\n",
       "TelecomEngg                    AxesSubplot(0.125,0.125;0.168478x0.16413)\n",
       "CivilEngg                   AxesSubplot(0.327174,0.125;0.168478x0.16413)\n",
       "conscientiousness           AxesSubplot(0.529348,0.125;0.168478x0.16413)\n",
       "dtype: object"
      ]
     },
     "execution_count": 104,
     "metadata": {},
     "output_type": "execute_result"
    },
    {
     "data": {
      "image/png": "[encoded data removed]",
      "text/plain": [
       "<Figure size 720x720 with 16 Axes>"
      ]
     },
     "metadata": {
      "needs_background": "light"
     },
     "output_type": "display_data"
    }
   ],
   "source": [
    "df[numerical_features].plot(kind='box', subplots=True, layout=(4, 4), figsize=(10, 10))\n"
   ]
  },
  {
   "cell_type": "code",
   "execution_count": 180,
   "id": "05ad0d3c",
   "metadata": {},
   "outputs": [
    {
     "data": {
      "image/png": "[encoded data removed]",
      "text/plain": [
       "<Figure size 360x216 with 1 Axes>"
      ]
     },
     "metadata": {
      "needs_background": "light"
     },
     "output_type": "display_data"
    }
   ],
   "source": [
    "df['Degree'].value_counts().sort_values(ascending=True).plot(\n",
    "    kind='barh',\n",
    "    title='Degree',\n",
    "    figsize=(5, 3),\n",
    "    ec='k',\n",
    "    alpha=0.7\n",
    ")\n",
    "plt.ylabel('Degree')\n",
    "plt.xlabel('Count')\n",
    "plt.xscale('log')\n",
    "plt.tight_layout()\n",
    "plt.show()"
   ]
  },
  {
   "cell_type": "markdown",
   "id": "ecceab42",
   "metadata": {},
   "source": [
    "# Bivariate Analysis\n",
    "\n",
    "### Continuous vs Continuous Numerical Data\n"
   ]
  },
  {
   "cell_type": "code",
   "execution_count": 132,
   "id": "3b06db42",
   "metadata": {},
   "outputs": [
    {
     "data": {
      "text/plain": [
       "Index(['Unnamed: 0', 'ID', 'Salary', 'DOJ', 'DOL', 'Designation', 'JobCity',\n",
       "       'Gender', 'DOB', '10percentage', '10board', '12graduation',\n",
       "       '12percentage', '12board', 'CollegeID', 'CollegeTier', 'Degree',\n",
       "       'Specialization', 'collegeGPA', 'CollegeCityID', 'CollegeCityTier',\n",
       "       'CollegeState', 'GraduationYear', 'English', 'Logical', 'Quant',\n",
       "       'Domain', 'ComputerProgramming', 'ElectronicsAndSemicon',\n",
       "       'ComputerScience', 'MechanicalEngg', 'ElectricalEngg', 'TelecomEngg',\n",
       "       'CivilEngg', 'conscientiousness', 'agreeableness', 'extraversion',\n",
       "       'nueroticism', 'openess_to_experience'],\n",
       "      dtype='object')"
      ]
     },
     "execution_count": 132,
     "metadata": {},
     "output_type": "execute_result"
    }
   ],
   "source": [
    "df.columns"
   ]
  },
  {
   "cell_type": "code",
   "execution_count": 134,
   "id": "b85087b8",
   "metadata": {
    "scrolled": true
   },
   "outputs": [
    {
     "data": {
      "text/html": [
       "<div>\n",
       "<style scoped>\n",
       "    .dataframe tbody tr th:only-of-type {\n",
       "        vertical-align: middle;\n",
       "    }\n",
       "\n",
       "    .dataframe tbody tr th {\n",
       "        vertical-align: top;\n",
       "    }\n",
       "\n",
       "    .dataframe thead th {\n",
       "        text-align: right;\n",
       "    }\n",
       "</style>\n",
       "<table border=\"1\" class=\"dataframe\">\n",
       "  <thead>\n",
       "    <tr style=\"text-align: right;\">\n",
       "      <th></th>\n",
       "      <th>ID</th>\n",
       "      <th>Salary</th>\n",
       "      <th>10percentage</th>\n",
       "      <th>12graduation</th>\n",
       "      <th>12percentage</th>\n",
       "      <th>CollegeID</th>\n",
       "      <th>CollegeTier</th>\n",
       "      <th>collegeGPA</th>\n",
       "      <th>CollegeCityID</th>\n",
       "      <th>CollegeCityTier</th>\n",
       "      <th>...</th>\n",
       "      <th>ComputerScience</th>\n",
       "      <th>MechanicalEngg</th>\n",
       "      <th>ElectricalEngg</th>\n",
       "      <th>TelecomEngg</th>\n",
       "      <th>CivilEngg</th>\n",
       "      <th>conscientiousness</th>\n",
       "      <th>agreeableness</th>\n",
       "      <th>extraversion</th>\n",
       "      <th>nueroticism</th>\n",
       "      <th>openess_to_experience</th>\n",
       "    </tr>\n",
       "  </thead>\n",
       "  <tbody>\n",
       "    <tr>\n",
       "      <th>ID</th>\n",
       "      <td>1.000000</td>\n",
       "      <td>-0.257384</td>\n",
       "      <td>0.044072</td>\n",
       "      <td>0.672774</td>\n",
       "      <td>0.007336</td>\n",
       "      <td>0.284271</td>\n",
       "      <td>0.033932</td>\n",
       "      <td>0.046834</td>\n",
       "      <td>0.284271</td>\n",
       "      <td>-0.035807</td>\n",
       "      <td>...</td>\n",
       "      <td>0.482511</td>\n",
       "      <td>-0.026435</td>\n",
       "      <td>0.104326</td>\n",
       "      <td>-0.049655</td>\n",
       "      <td>-0.017995</td>\n",
       "      <td>0.174318</td>\n",
       "      <td>0.024592</td>\n",
       "      <td>0.119839</td>\n",
       "      <td>-0.146672</td>\n",
       "      <td>0.030527</td>\n",
       "    </tr>\n",
       "    <tr>\n",
       "      <th>Salary</th>\n",
       "      <td>-0.257384</td>\n",
       "      <td>1.000000</td>\n",
       "      <td>0.205858</td>\n",
       "      <td>-0.162605</td>\n",
       "      <td>0.186762</td>\n",
       "      <td>-0.127585</td>\n",
       "      <td>-0.187058</td>\n",
       "      <td>0.150629</td>\n",
       "      <td>-0.127585</td>\n",
       "      <td>0.015800</td>\n",
       "      <td>...</td>\n",
       "      <td>-0.105813</td>\n",
       "      <td>0.024166</td>\n",
       "      <td>-0.050669</td>\n",
       "      <td>-0.021105</td>\n",
       "      <td>0.043678</td>\n",
       "      <td>-0.053941</td>\n",
       "      <td>0.067212</td>\n",
       "      <td>0.004050</td>\n",
       "      <td>-0.058524</td>\n",
       "      <td>-0.003897</td>\n",
       "    </tr>\n",
       "    <tr>\n",
       "      <th>10percentage</th>\n",
       "      <td>0.044072</td>\n",
       "      <td>0.205858</td>\n",
       "      <td>1.000000</td>\n",
       "      <td>0.269628</td>\n",
       "      <td>0.643195</td>\n",
       "      <td>0.020605</td>\n",
       "      <td>-0.125023</td>\n",
       "      <td>0.312329</td>\n",
       "      <td>0.020605</td>\n",
       "      <td>0.115937</td>\n",
       "      <td>...</td>\n",
       "      <td>-0.019130</td>\n",
       "      <td>0.050334</td>\n",
       "      <td>0.074429</td>\n",
       "      <td>0.049325</td>\n",
       "      <td>0.029999</td>\n",
       "      <td>0.065998</td>\n",
       "      <td>0.136446</td>\n",
       "      <td>-0.004842</td>\n",
       "      <td>-0.132337</td>\n",
       "      <td>0.035196</td>\n",
       "    </tr>\n",
       "    <tr>\n",
       "      <th>12graduation</th>\n",
       "      <td>0.672774</td>\n",
       "      <td>-0.162605</td>\n",
       "      <td>0.269628</td>\n",
       "      <td>1.000000</td>\n",
       "      <td>0.259337</td>\n",
       "      <td>0.253446</td>\n",
       "      <td>0.026251</td>\n",
       "      <td>0.085730</td>\n",
       "      <td>0.253446</td>\n",
       "      <td>-0.002622</td>\n",
       "      <td>...</td>\n",
       "      <td>0.293336</td>\n",
       "      <td>0.035272</td>\n",
       "      <td>0.123717</td>\n",
       "      <td>0.023202</td>\n",
       "      <td>-0.004828</td>\n",
       "      <td>0.101259</td>\n",
       "      <td>0.040767</td>\n",
       "      <td>0.060606</td>\n",
       "      <td>-0.074725</td>\n",
       "      <td>-0.016755</td>\n",
       "    </tr>\n",
       "    <tr>\n",
       "      <th>12percentage</th>\n",
       "      <td>0.007336</td>\n",
       "      <td>0.186762</td>\n",
       "      <td>0.643195</td>\n",
       "      <td>0.259337</td>\n",
       "      <td>1.000000</td>\n",
       "      <td>0.022079</td>\n",
       "      <td>-0.099816</td>\n",
       "      <td>0.346138</td>\n",
       "      <td>0.022079</td>\n",
       "      <td>0.130047</td>\n",
       "      <td>...</td>\n",
       "      <td>-0.043421</td>\n",
       "      <td>0.037720</td>\n",
       "      <td>0.064089</td>\n",
       "      <td>0.044310</td>\n",
       "      <td>0.005940</td>\n",
       "      <td>0.057590</td>\n",
       "      <td>0.103856</td>\n",
       "      <td>-0.007183</td>\n",
       "      <td>-0.094160</td>\n",
       "      <td>0.005375</td>\n",
       "    </tr>\n",
       "    <tr>\n",
       "      <th>CollegeID</th>\n",
       "      <td>0.284271</td>\n",
       "      <td>-0.127585</td>\n",
       "      <td>0.020605</td>\n",
       "      <td>0.253446</td>\n",
       "      <td>0.022079</td>\n",
       "      <td>1.000000</td>\n",
       "      <td>0.066795</td>\n",
       "      <td>0.017082</td>\n",
       "      <td>1.000000</td>\n",
       "      <td>0.007840</td>\n",
       "      <td>...</td>\n",
       "      <td>0.102187</td>\n",
       "      <td>-0.009362</td>\n",
       "      <td>0.022882</td>\n",
       "      <td>0.025538</td>\n",
       "      <td>0.005722</td>\n",
       "      <td>0.075593</td>\n",
       "      <td>-0.005466</td>\n",
       "      <td>0.005451</td>\n",
       "      <td>-0.009029</td>\n",
       "      <td>-0.011435</td>\n",
       "    </tr>\n",
       "    <tr>\n",
       "      <th>CollegeTier</th>\n",
       "      <td>0.033932</td>\n",
       "      <td>-0.187058</td>\n",
       "      <td>-0.125023</td>\n",
       "      <td>0.026251</td>\n",
       "      <td>-0.099816</td>\n",
       "      <td>0.066795</td>\n",
       "      <td>1.000000</td>\n",
       "      <td>-0.086728</td>\n",
       "      <td>0.066795</td>\n",
       "      <td>-0.100252</td>\n",
       "      <td>...</td>\n",
       "      <td>0.000666</td>\n",
       "      <td>-0.021764</td>\n",
       "      <td>0.002450</td>\n",
       "      <td>-0.000226</td>\n",
       "      <td>-0.033850</td>\n",
       "      <td>0.054959</td>\n",
       "      <td>-0.038196</td>\n",
       "      <td>0.008560</td>\n",
       "      <td>0.023187</td>\n",
       "      <td>-0.019097</td>\n",
       "    </tr>\n",
       "    <tr>\n",
       "      <th>collegeGPA</th>\n",
       "      <td>0.046834</td>\n",
       "      <td>0.150629</td>\n",
       "      <td>0.312329</td>\n",
       "      <td>0.085730</td>\n",
       "      <td>0.346138</td>\n",
       "      <td>0.017082</td>\n",
       "      <td>-0.086728</td>\n",
       "      <td>1.000000</td>\n",
       "      <td>0.017082</td>\n",
       "      <td>0.017247</td>\n",
       "      <td>...</td>\n",
       "      <td>0.007476</td>\n",
       "      <td>-0.031828</td>\n",
       "      <td>0.052216</td>\n",
       "      <td>-0.005302</td>\n",
       "      <td>-0.018976</td>\n",
       "      <td>0.069079</td>\n",
       "      <td>0.068189</td>\n",
       "      <td>-0.032898</td>\n",
       "      <td>-0.074825</td>\n",
       "      <td>0.027661</td>\n",
       "    </tr>\n",
       "    <tr>\n",
       "      <th>CollegeCityID</th>\n",
       "      <td>0.284271</td>\n",
       "      <td>-0.127585</td>\n",
       "      <td>0.020605</td>\n",
       "      <td>0.253446</td>\n",
       "      <td>0.022079</td>\n",
       "      <td>1.000000</td>\n",
       "      <td>0.066795</td>\n",
       "      <td>0.017082</td>\n",
       "      <td>1.000000</td>\n",
       "      <td>0.007840</td>\n",
       "      <td>...</td>\n",
       "      <td>0.102187</td>\n",
       "      <td>-0.009362</td>\n",
       "      <td>0.022882</td>\n",
       "      <td>0.025538</td>\n",
       "      <td>0.005722</td>\n",
       "      <td>0.075593</td>\n",
       "      <td>-0.005466</td>\n",
       "      <td>0.005451</td>\n",
       "      <td>-0.009029</td>\n",
       "      <td>-0.011435</td>\n",
       "    </tr>\n",
       "    <tr>\n",
       "      <th>CollegeCityTier</th>\n",
       "      <td>-0.035807</td>\n",
       "      <td>0.015800</td>\n",
       "      <td>0.115937</td>\n",
       "      <td>-0.002622</td>\n",
       "      <td>0.130047</td>\n",
       "      <td>0.007840</td>\n",
       "      <td>-0.100252</td>\n",
       "      <td>0.017247</td>\n",
       "      <td>0.007840</td>\n",
       "      <td>1.000000</td>\n",
       "      <td>...</td>\n",
       "      <td>-0.010620</td>\n",
       "      <td>-0.052404</td>\n",
       "      <td>0.010326</td>\n",
       "      <td>0.049915</td>\n",
       "      <td>-0.033400</td>\n",
       "      <td>0.014548</td>\n",
       "      <td>0.005547</td>\n",
       "      <td>-0.007791</td>\n",
       "      <td>0.004730</td>\n",
       "      <td>-0.017095</td>\n",
       "    </tr>\n",
       "    <tr>\n",
       "      <th>GraduationYear</th>\n",
       "      <td>0.027505</td>\n",
       "      <td>-0.010632</td>\n",
       "      <td>-0.013833</td>\n",
       "      <td>0.014403</td>\n",
       "      <td>-0.012938</td>\n",
       "      <td>-0.000198</td>\n",
       "      <td>-0.005619</td>\n",
       "      <td>0.008696</td>\n",
       "      <td>-0.000198</td>\n",
       "      <td>0.008169</td>\n",
       "      <td>...</td>\n",
       "      <td>0.024073</td>\n",
       "      <td>-0.066854</td>\n",
       "      <td>0.008518</td>\n",
       "      <td>0.004215</td>\n",
       "      <td>0.001692</td>\n",
       "      <td>-0.013318</td>\n",
       "      <td>-0.002889</td>\n",
       "      <td>0.008354</td>\n",
       "      <td>-0.000426</td>\n",
       "      <td>0.016829</td>\n",
       "    </tr>\n",
       "    <tr>\n",
       "      <th>English</th>\n",
       "      <td>0.135883</td>\n",
       "      <td>0.198603</td>\n",
       "      <td>0.350165</td>\n",
       "      <td>0.148444</td>\n",
       "      <td>0.212393</td>\n",
       "      <td>-0.022806</td>\n",
       "      <td>-0.182662</td>\n",
       "      <td>0.106264</td>\n",
       "      <td>-0.022806</td>\n",
       "      <td>0.049650</td>\n",
       "      <td>...</td>\n",
       "      <td>0.059570</td>\n",
       "      <td>-0.002461</td>\n",
       "      <td>0.032468</td>\n",
       "      <td>-0.005803</td>\n",
       "      <td>-0.007721</td>\n",
       "      <td>0.034562</td>\n",
       "      <td>0.195024</td>\n",
       "      <td>0.019192</td>\n",
       "      <td>-0.155295</td>\n",
       "      <td>0.067580</td>\n",
       "    </tr>\n",
       "    <tr>\n",
       "      <th>Logical</th>\n",
       "      <td>0.103265</td>\n",
       "      <td>0.189732</td>\n",
       "      <td>0.315554</td>\n",
       "      <td>0.106618</td>\n",
       "      <td>0.242779</td>\n",
       "      <td>-0.047127</td>\n",
       "      <td>-0.181390</td>\n",
       "      <td>0.196662</td>\n",
       "      <td>-0.047127</td>\n",
       "      <td>0.019637</td>\n",
       "      <td>...</td>\n",
       "      <td>0.044850</td>\n",
       "      <td>-0.009713</td>\n",
       "      <td>0.012139</td>\n",
       "      <td>-0.012758</td>\n",
       "      <td>-0.011231</td>\n",
       "      <td>0.025804</td>\n",
       "      <td>0.167266</td>\n",
       "      <td>-0.006101</td>\n",
       "      <td>-0.178531</td>\n",
       "      <td>0.047965</td>\n",
       "    </tr>\n",
       "    <tr>\n",
       "      <th>Quant</th>\n",
       "      <td>-0.055446</td>\n",
       "      <td>0.264287</td>\n",
       "      <td>0.317641</td>\n",
       "      <td>0.001673</td>\n",
       "      <td>0.312781</td>\n",
       "      <td>-0.114586</td>\n",
       "      <td>-0.250940</td>\n",
       "      <td>0.217277</td>\n",
       "      <td>-0.114586</td>\n",
       "      <td>0.007374</td>\n",
       "      <td>...</td>\n",
       "      <td>-0.043565</td>\n",
       "      <td>0.019863</td>\n",
       "      <td>0.020919</td>\n",
       "      <td>0.021296</td>\n",
       "      <td>0.000496</td>\n",
       "      <td>-0.005729</td>\n",
       "      <td>0.103535</td>\n",
       "      <td>-0.028617</td>\n",
       "      <td>-0.131839</td>\n",
       "      <td>0.020510</td>\n",
       "    </tr>\n",
       "    <tr>\n",
       "      <th>Domain</th>\n",
       "      <td>-0.125091</td>\n",
       "      <td>0.108122</td>\n",
       "      <td>0.078377</td>\n",
       "      <td>-0.033855</td>\n",
       "      <td>0.073582</td>\n",
       "      <td>-0.073866</td>\n",
       "      <td>-0.060718</td>\n",
       "      <td>0.107339</td>\n",
       "      <td>-0.073866</td>\n",
       "      <td>0.009038</td>\n",
       "      <td>...</td>\n",
       "      <td>0.059055</td>\n",
       "      <td>0.048612</td>\n",
       "      <td>0.042990</td>\n",
       "      <td>0.024612</td>\n",
       "      <td>0.017626</td>\n",
       "      <td>-0.039393</td>\n",
       "      <td>0.051943</td>\n",
       "      <td>-0.024119</td>\n",
       "      <td>-0.017754</td>\n",
       "      <td>0.010240</td>\n",
       "    </tr>\n",
       "    <tr>\n",
       "      <th>ComputerProgramming</th>\n",
       "      <td>0.019971</td>\n",
       "      <td>0.115322</td>\n",
       "      <td>0.053433</td>\n",
       "      <td>-0.047401</td>\n",
       "      <td>0.080164</td>\n",
       "      <td>-0.033678</td>\n",
       "      <td>-0.072620</td>\n",
       "      <td>0.136800</td>\n",
       "      <td>-0.033678</td>\n",
       "      <td>0.064053</td>\n",
       "      <td>...</td>\n",
       "      <td>0.253620</td>\n",
       "      <td>-0.284854</td>\n",
       "      <td>-0.138140</td>\n",
       "      <td>-0.248160</td>\n",
       "      <td>-0.088216</td>\n",
       "      <td>0.013308</td>\n",
       "      <td>0.076996</td>\n",
       "      <td>0.044407</td>\n",
       "      <td>-0.084143</td>\n",
       "      <td>0.043097</td>\n",
       "    </tr>\n",
       "    <tr>\n",
       "      <th>ElectronicsAndSemicon</th>\n",
       "      <td>-0.116376</td>\n",
       "      <td>0.009259</td>\n",
       "      <td>0.085074</td>\n",
       "      <td>-0.006477</td>\n",
       "      <td>0.117352</td>\n",
       "      <td>-0.020615</td>\n",
       "      <td>-0.032080</td>\n",
       "      <td>0.029715</td>\n",
       "      <td>-0.020615</td>\n",
       "      <td>0.041138</td>\n",
       "      <td>...</td>\n",
       "      <td>-0.274012</td>\n",
       "      <td>-0.109563</td>\n",
       "      <td>0.036883</td>\n",
       "      <td>0.387065</td>\n",
       "      <td>0.002817</td>\n",
       "      <td>-0.027088</td>\n",
       "      <td>-0.024371</td>\n",
       "      <td>-0.044981</td>\n",
       "      <td>0.020940</td>\n",
       "      <td>-0.013732</td>\n",
       "    </tr>\n",
       "    <tr>\n",
       "      <th>ComputerScience</th>\n",
       "      <td>0.482511</td>\n",
       "      <td>-0.105813</td>\n",
       "      <td>-0.019130</td>\n",
       "      <td>0.293336</td>\n",
       "      <td>-0.043421</td>\n",
       "      <td>0.102187</td>\n",
       "      <td>0.000666</td>\n",
       "      <td>0.007476</td>\n",
       "      <td>0.102187</td>\n",
       "      <td>-0.010620</td>\n",
       "      <td>...</td>\n",
       "      <td>1.000000</td>\n",
       "      <td>-0.124467</td>\n",
       "      <td>-0.083887</td>\n",
       "      <td>-0.148239</td>\n",
       "      <td>-0.052658</td>\n",
       "      <td>0.089802</td>\n",
       "      <td>0.039803</td>\n",
       "      <td>0.101797</td>\n",
       "      <td>-0.112748</td>\n",
       "      <td>0.057872</td>\n",
       "    </tr>\n",
       "    <tr>\n",
       "      <th>MechanicalEngg</th>\n",
       "      <td>-0.026435</td>\n",
       "      <td>0.024166</td>\n",
       "      <td>0.050334</td>\n",
       "      <td>0.035272</td>\n",
       "      <td>0.037720</td>\n",
       "      <td>-0.009362</td>\n",
       "      <td>-0.021764</td>\n",
       "      <td>-0.031828</td>\n",
       "      <td>-0.009362</td>\n",
       "      <td>-0.052404</td>\n",
       "      <td>...</td>\n",
       "      <td>-0.124467</td>\n",
       "      <td>1.000000</td>\n",
       "      <td>-0.040560</td>\n",
       "      <td>-0.071009</td>\n",
       "      <td>0.076185</td>\n",
       "      <td>-0.011099</td>\n",
       "      <td>-0.028620</td>\n",
       "      <td>-0.017956</td>\n",
       "      <td>0.036115</td>\n",
       "      <td>-0.028117</td>\n",
       "    </tr>\n",
       "    <tr>\n",
       "      <th>ElectricalEngg</th>\n",
       "      <td>0.104326</td>\n",
       "      <td>-0.050669</td>\n",
       "      <td>0.074429</td>\n",
       "      <td>0.123717</td>\n",
       "      <td>0.064089</td>\n",
       "      <td>0.022882</td>\n",
       "      <td>0.002450</td>\n",
       "      <td>0.052216</td>\n",
       "      <td>0.022882</td>\n",
       "      <td>0.010326</td>\n",
       "      <td>...</td>\n",
       "      <td>-0.083887</td>\n",
       "      <td>-0.040560</td>\n",
       "      <td>1.000000</td>\n",
       "      <td>-0.051518</td>\n",
       "      <td>-0.020075</td>\n",
       "      <td>0.029662</td>\n",
       "      <td>-0.015482</td>\n",
       "      <td>0.004308</td>\n",
       "      <td>-0.030902</td>\n",
       "      <td>-0.012681</td>\n",
       "    </tr>\n",
       "    <tr>\n",
       "      <th>TelecomEngg</th>\n",
       "      <td>-0.049655</td>\n",
       "      <td>-0.021105</td>\n",
       "      <td>0.049325</td>\n",
       "      <td>0.023202</td>\n",
       "      <td>0.044310</td>\n",
       "      <td>0.025538</td>\n",
       "      <td>-0.000226</td>\n",
       "      <td>-0.005302</td>\n",
       "      <td>0.025538</td>\n",
       "      <td>0.049915</td>\n",
       "      <td>...</td>\n",
       "      <td>-0.148239</td>\n",
       "      <td>-0.071009</td>\n",
       "      <td>-0.051518</td>\n",
       "      <td>1.000000</td>\n",
       "      <td>-0.031517</td>\n",
       "      <td>-0.005243</td>\n",
       "      <td>-0.014670</td>\n",
       "      <td>-0.039326</td>\n",
       "      <td>0.020594</td>\n",
       "      <td>-0.000275</td>\n",
       "    </tr>\n",
       "    <tr>\n",
       "      <th>CivilEngg</th>\n",
       "      <td>-0.017995</td>\n",
       "      <td>0.043678</td>\n",
       "      <td>0.029999</td>\n",
       "      <td>-0.004828</td>\n",
       "      <td>0.005940</td>\n",
       "      <td>0.005722</td>\n",
       "      <td>-0.033850</td>\n",
       "      <td>-0.018976</td>\n",
       "      <td>0.005722</td>\n",
       "      <td>-0.033400</td>\n",
       "      <td>...</td>\n",
       "      <td>-0.052658</td>\n",
       "      <td>0.076185</td>\n",
       "      <td>-0.020075</td>\n",
       "      <td>-0.031517</td>\n",
       "      <td>1.000000</td>\n",
       "      <td>-0.017644</td>\n",
       "      <td>-0.034269</td>\n",
       "      <td>-0.031921</td>\n",
       "      <td>0.010541</td>\n",
       "      <td>-0.031270</td>\n",
       "    </tr>\n",
       "    <tr>\n",
       "      <th>conscientiousness</th>\n",
       "      <td>0.174318</td>\n",
       "      <td>-0.053941</td>\n",
       "      <td>0.065998</td>\n",
       "      <td>0.101259</td>\n",
       "      <td>0.057590</td>\n",
       "      <td>0.075593</td>\n",
       "      <td>0.054959</td>\n",
       "      <td>0.069079</td>\n",
       "      <td>0.075593</td>\n",
       "      <td>0.014548</td>\n",
       "      <td>...</td>\n",
       "      <td>0.089802</td>\n",
       "      <td>-0.011099</td>\n",
       "      <td>0.029662</td>\n",
       "      <td>-0.005243</td>\n",
       "      <td>-0.017644</td>\n",
       "      <td>1.000000</td>\n",
       "      <td>0.481974</td>\n",
       "      <td>0.355034</td>\n",
       "      <td>-0.330810</td>\n",
       "      <td>0.394473</td>\n",
       "    </tr>\n",
       "    <tr>\n",
       "      <th>agreeableness</th>\n",
       "      <td>0.024592</td>\n",
       "      <td>0.067212</td>\n",
       "      <td>0.136446</td>\n",
       "      <td>0.040767</td>\n",
       "      <td>0.103856</td>\n",
       "      <td>-0.005466</td>\n",
       "      <td>-0.038196</td>\n",
       "      <td>0.068189</td>\n",
       "      <td>-0.005466</td>\n",
       "      <td>0.005547</td>\n",
       "      <td>...</td>\n",
       "      <td>0.039803</td>\n",
       "      <td>-0.028620</td>\n",
       "      <td>-0.015482</td>\n",
       "      <td>-0.014670</td>\n",
       "      <td>-0.034269</td>\n",
       "      <td>0.481974</td>\n",
       "      <td>1.000000</td>\n",
       "      <td>0.454438</td>\n",
       "      <td>-0.207508</td>\n",
       "      <td>0.591654</td>\n",
       "    </tr>\n",
       "    <tr>\n",
       "      <th>extraversion</th>\n",
       "      <td>0.119839</td>\n",
       "      <td>0.004050</td>\n",
       "      <td>-0.004842</td>\n",
       "      <td>0.060606</td>\n",
       "      <td>-0.007183</td>\n",
       "      <td>0.005451</td>\n",
       "      <td>0.008560</td>\n",
       "      <td>-0.032898</td>\n",
       "      <td>0.005451</td>\n",
       "      <td>-0.007791</td>\n",
       "      <td>...</td>\n",
       "      <td>0.101797</td>\n",
       "      <td>-0.017956</td>\n",
       "      <td>0.004308</td>\n",
       "      <td>-0.039326</td>\n",
       "      <td>-0.031921</td>\n",
       "      <td>0.355034</td>\n",
       "      <td>0.454438</td>\n",
       "      <td>1.000000</td>\n",
       "      <td>-0.096825</td>\n",
       "      <td>0.435059</td>\n",
       "    </tr>\n",
       "    <tr>\n",
       "      <th>nueroticism</th>\n",
       "      <td>-0.146672</td>\n",
       "      <td>-0.058524</td>\n",
       "      <td>-0.132337</td>\n",
       "      <td>-0.074725</td>\n",
       "      <td>-0.094160</td>\n",
       "      <td>-0.009029</td>\n",
       "      <td>0.023187</td>\n",
       "      <td>-0.074825</td>\n",
       "      <td>-0.009029</td>\n",
       "      <td>0.004730</td>\n",
       "      <td>...</td>\n",
       "      <td>-0.112748</td>\n",
       "      <td>0.036115</td>\n",
       "      <td>-0.030902</td>\n",
       "      <td>0.020594</td>\n",
       "      <td>0.010541</td>\n",
       "      <td>-0.330810</td>\n",
       "      <td>-0.207508</td>\n",
       "      <td>-0.096825</td>\n",
       "      <td>1.000000</td>\n",
       "      <td>-0.065783</td>\n",
       "    </tr>\n",
       "    <tr>\n",
       "      <th>openess_to_experience</th>\n",
       "      <td>0.030527</td>\n",
       "      <td>-0.003897</td>\n",
       "      <td>0.035196</td>\n",
       "      <td>-0.016755</td>\n",
       "      <td>0.005375</td>\n",
       "      <td>-0.011435</td>\n",
       "      <td>-0.019097</td>\n",
       "      <td>0.027661</td>\n",
       "      <td>-0.011435</td>\n",
       "      <td>-0.017095</td>\n",
       "      <td>...</td>\n",
       "      <td>0.057872</td>\n",
       "      <td>-0.028117</td>\n",
       "      <td>-0.012681</td>\n",
       "      <td>-0.000275</td>\n",
       "      <td>-0.031270</td>\n",
       "      <td>0.394473</td>\n",
       "      <td>0.591654</td>\n",
       "      <td>0.435059</td>\n",
       "      <td>-0.065783</td>\n",
       "      <td>1.000000</td>\n",
       "    </tr>\n",
       "  </tbody>\n",
       "</table>\n",
       "<p>27 rows × 27 columns</p>\n",
       "</div>"
      ],
      "text/plain": [
       "                             ID    Salary  10percentage  12graduation  \\\n",
       "ID                     1.000000 -0.257384      0.044072      0.672774   \n",
       "Salary                -0.257384  1.000000      0.205858     -0.162605   \n",
       "10percentage           0.044072  0.205858      1.000000      0.269628   \n",
       "12graduation           0.672774 -0.162605      0.269628      1.000000   \n",
       "12percentage           0.007336  0.186762      0.643195      0.259337   \n",
       "CollegeID              0.284271 -0.127585      0.020605      0.253446   \n",
       "CollegeTier            0.033932 -0.187058     -0.125023      0.026251   \n",
       "collegeGPA             0.046834  0.150629      0.312329      0.085730   \n",
       "CollegeCityID          0.284271 -0.127585      0.020605      0.253446   \n",
       "CollegeCityTier       -0.035807  0.015800      0.115937     -0.002622   \n",
       "GraduationYear         0.027505 -0.010632     -0.013833      0.014403   \n",
       "English                0.135883  0.198603      0.350165      0.148444   \n",
       "Logical                0.103265  0.189732      0.315554      0.106618   \n",
       "Quant                 -0.055446  0.264287      0.317641      0.001673   \n",
       "Domain                -0.125091  0.108122      0.078377     -0.033855   \n",
       "ComputerProgramming    0.019971  0.115322      0.053433     -0.047401   \n",
       "ElectronicsAndSemicon -0.116376  0.009259      0.085074     -0.006477   \n",
       "ComputerScience        0.482511 -0.105813     -0.019130      0.293336   \n",
       "MechanicalEngg        -0.026435  0.024166      0.050334      0.035272   \n",
       "ElectricalEngg         0.104326 -0.050669      0.074429      0.123717   \n",
       "TelecomEngg           -0.049655 -0.021105      0.049325      0.023202   \n",
       "CivilEngg             -0.017995  0.043678      0.029999     -0.004828   \n",
       "conscientiousness      0.174318 -0.053941      0.065998      0.101259   \n",
       "agreeableness          0.024592  0.067212      0.136446      0.040767   \n",
       "extraversion           0.119839  0.004050     -0.004842      0.060606   \n",
       "nueroticism           -0.146672 -0.058524     -0.132337     -0.074725   \n",
       "openess_to_experience  0.030527 -0.003897      0.035196     -0.016755   \n",
       "\n",
       "                       12percentage  CollegeID  CollegeTier  collegeGPA  \\\n",
       "ID                         0.007336   0.284271     0.033932    0.046834   \n",
       "Salary                     0.186762  -0.127585    -0.187058    0.150629   \n",
       "10percentage               0.643195   0.020605    -0.125023    0.312329   \n",
       "12graduation               0.259337   0.253446     0.026251    0.085730   \n",
       "12percentage               1.000000   0.022079    -0.099816    0.346138   \n",
       "CollegeID                  0.022079   1.000000     0.066795    0.017082   \n",
       "CollegeTier               -0.099816   0.066795     1.000000   -0.086728   \n",
       "collegeGPA                 0.346138   0.017082    -0.086728    1.000000   \n",
       "CollegeCityID              0.022079   1.000000     0.066795    0.017082   \n",
       "CollegeCityTier            0.130047   0.007840    -0.100252    0.017247   \n",
       "GraduationYear            -0.012938  -0.000198    -0.005619    0.008696   \n",
       "English                    0.212393  -0.022806    -0.182662    0.106264   \n",
       "Logical                    0.242779  -0.047127    -0.181390    0.196662   \n",
       "Quant                      0.312781  -0.114586    -0.250940    0.217277   \n",
       "Domain                     0.073582  -0.073866    -0.060718    0.107339   \n",
       "ComputerProgramming        0.080164  -0.033678    -0.072620    0.136800   \n",
       "ElectronicsAndSemicon      0.117352  -0.020615    -0.032080    0.029715   \n",
       "ComputerScience           -0.043421   0.102187     0.000666    0.007476   \n",
       "MechanicalEngg             0.037720  -0.009362    -0.021764   -0.031828   \n",
       "ElectricalEngg             0.064089   0.022882     0.002450    0.052216   \n",
       "TelecomEngg                0.044310   0.025538    -0.000226   -0.005302   \n",
       "CivilEngg                  0.005940   0.005722    -0.033850   -0.018976   \n",
       "conscientiousness          0.057590   0.075593     0.054959    0.069079   \n",
       "agreeableness              0.103856  -0.005466    -0.038196    0.068189   \n",
       "extraversion              -0.007183   0.005451     0.008560   -0.032898   \n",
       "nueroticism               -0.094160  -0.009029     0.023187   -0.074825   \n",
       "openess_to_experience      0.005375  -0.011435    -0.019097    0.027661   \n",
       "\n",
       "                       CollegeCityID  CollegeCityTier  ...  ComputerScience  \\\n",
       "ID                          0.284271        -0.035807  ...         0.482511   \n",
       "Salary                     -0.127585         0.015800  ...        -0.105813   \n",
       "10percentage                0.020605         0.115937  ...        -0.019130   \n",
       "12graduation                0.253446        -0.002622  ...         0.293336   \n",
       "12percentage                0.022079         0.130047  ...        -0.043421   \n",
       "CollegeID                   1.000000         0.007840  ...         0.102187   \n",
       "CollegeTier                 0.066795        -0.100252  ...         0.000666   \n",
       "collegeGPA                  0.017082         0.017247  ...         0.007476   \n",
       "CollegeCityID               1.000000         0.007840  ...         0.102187   \n",
       "CollegeCityTier             0.007840         1.000000  ...        -0.010620   \n",
       "GraduationYear             -0.000198         0.008169  ...         0.024073   \n",
       "English                    -0.022806         0.049650  ...         0.059570   \n",
       "Logical                    -0.047127         0.019637  ...         0.044850   \n",
       "Quant                      -0.114586         0.007374  ...        -0.043565   \n",
       "Domain                     -0.073866         0.009038  ...         0.059055   \n",
       "ComputerProgramming        -0.033678         0.064053  ...         0.253620   \n",
       "ElectronicsAndSemicon      -0.020615         0.041138  ...        -0.274012   \n",
       "ComputerScience             0.102187        -0.010620  ...         1.000000   \n",
       "MechanicalEngg             -0.009362        -0.052404  ...        -0.124467   \n",
       "ElectricalEngg              0.022882         0.010326  ...        -0.083887   \n",
       "TelecomEngg                 0.025538         0.049915  ...        -0.148239   \n",
       "CivilEngg                   0.005722        -0.033400  ...        -0.052658   \n",
       "conscientiousness           0.075593         0.014548  ...         0.089802   \n",
       "agreeableness              -0.005466         0.005547  ...         0.039803   \n",
       "extraversion                0.005451        -0.007791  ...         0.101797   \n",
       "nueroticism                -0.009029         0.004730  ...        -0.112748   \n",
       "openess_to_experience      -0.011435        -0.017095  ...         0.057872   \n",
       "\n",
       "                       MechanicalEngg  ElectricalEngg  TelecomEngg  CivilEngg  \\\n",
       "ID                          -0.026435        0.104326    -0.049655  -0.017995   \n",
       "Salary                       0.024166       -0.050669    -0.021105   0.043678   \n",
       "10percentage                 0.050334        0.074429     0.049325   0.029999   \n",
       "12graduation                 0.035272        0.123717     0.023202  -0.004828   \n",
       "12percentage                 0.037720        0.064089     0.044310   0.005940   \n",
       "CollegeID                   -0.009362        0.022882     0.025538   0.005722   \n",
       "CollegeTier                 -0.021764        0.002450    -0.000226  -0.033850   \n",
       "collegeGPA                  -0.031828        0.052216    -0.005302  -0.018976   \n",
       "CollegeCityID               -0.009362        0.022882     0.025538   0.005722   \n",
       "CollegeCityTier             -0.052404        0.010326     0.049915  -0.033400   \n",
       "GraduationYear              -0.066854        0.008518     0.004215   0.001692   \n",
       "English                     -0.002461        0.032468    -0.005803  -0.007721   \n",
       "Logical                     -0.009713        0.012139    -0.012758  -0.011231   \n",
       "Quant                        0.019863        0.020919     0.021296   0.000496   \n",
       "Domain                       0.048612        0.042990     0.024612   0.017626   \n",
       "ComputerProgramming         -0.284854       -0.138140    -0.248160  -0.088216   \n",
       "ElectronicsAndSemicon       -0.109563        0.036883     0.387065   0.002817   \n",
       "ComputerScience             -0.124467       -0.083887    -0.148239  -0.052658   \n",
       "MechanicalEngg               1.000000       -0.040560    -0.071009   0.076185   \n",
       "ElectricalEngg              -0.040560        1.000000    -0.051518  -0.020075   \n",
       "TelecomEngg                 -0.071009       -0.051518     1.000000  -0.031517   \n",
       "CivilEngg                    0.076185       -0.020075    -0.031517   1.000000   \n",
       "conscientiousness           -0.011099        0.029662    -0.005243  -0.017644   \n",
       "agreeableness               -0.028620       -0.015482    -0.014670  -0.034269   \n",
       "extraversion                -0.017956        0.004308    -0.039326  -0.031921   \n",
       "nueroticism                  0.036115       -0.030902     0.020594   0.010541   \n",
       "openess_to_experience       -0.028117       -0.012681    -0.000275  -0.031270   \n",
       "\n",
       "                       conscientiousness  agreeableness  extraversion  \\\n",
       "ID                              0.174318       0.024592      0.119839   \n",
       "Salary                         -0.053941       0.067212      0.004050   \n",
       "10percentage                    0.065998       0.136446     -0.004842   \n",
       "12graduation                    0.101259       0.040767      0.060606   \n",
       "12percentage                    0.057590       0.103856     -0.007183   \n",
       "CollegeID                       0.075593      -0.005466      0.005451   \n",
       "CollegeTier                     0.054959      -0.038196      0.008560   \n",
       "collegeGPA                      0.069079       0.068189     -0.032898   \n",
       "CollegeCityID                   0.075593      -0.005466      0.005451   \n",
       "CollegeCityTier                 0.014548       0.005547     -0.007791   \n",
       "GraduationYear                 -0.013318      -0.002889      0.008354   \n",
       "English                         0.034562       0.195024      0.019192   \n",
       "Logical                         0.025804       0.167266     -0.006101   \n",
       "Quant                          -0.005729       0.103535     -0.028617   \n",
       "Domain                         -0.039393       0.051943     -0.024119   \n",
       "ComputerProgramming             0.013308       0.076996      0.044407   \n",
       "ElectronicsAndSemicon          -0.027088      -0.024371     -0.044981   \n",
       "ComputerScience                 0.089802       0.039803      0.101797   \n",
       "MechanicalEngg                 -0.011099      -0.028620     -0.017956   \n",
       "ElectricalEngg                  0.029662      -0.015482      0.004308   \n",
       "TelecomEngg                    -0.005243      -0.014670     -0.039326   \n",
       "CivilEngg                      -0.017644      -0.034269     -0.031921   \n",
       "conscientiousness               1.000000       0.481974      0.355034   \n",
       "agreeableness                   0.481974       1.000000      0.454438   \n",
       "extraversion                    0.355034       0.454438      1.000000   \n",
       "nueroticism                    -0.330810      -0.207508     -0.096825   \n",
       "openess_to_experience           0.394473       0.591654      0.435059   \n",
       "\n",
       "                       nueroticism  openess_to_experience  \n",
       "ID                       -0.146672               0.030527  \n",
       "Salary                   -0.058524              -0.003897  \n",
       "10percentage             -0.132337               0.035196  \n",
       "12graduation             -0.074725              -0.016755  \n",
       "12percentage             -0.094160               0.005375  \n",
       "CollegeID                -0.009029              -0.011435  \n",
       "CollegeTier               0.023187              -0.019097  \n",
       "collegeGPA               -0.074825               0.027661  \n",
       "CollegeCityID            -0.009029              -0.011435  \n",
       "CollegeCityTier           0.004730              -0.017095  \n",
       "GraduationYear           -0.000426               0.016829  \n",
       "English                  -0.155295               0.067580  \n",
       "Logical                  -0.178531               0.047965  \n",
       "Quant                    -0.131839               0.020510  \n",
       "Domain                   -0.017754               0.010240  \n",
       "ComputerProgramming      -0.084143               0.043097  \n",
       "ElectronicsAndSemicon     0.020940              -0.013732  \n",
       "ComputerScience          -0.112748               0.057872  \n",
       "MechanicalEngg            0.036115              -0.028117  \n",
       "ElectricalEngg           -0.030902              -0.012681  \n",
       "TelecomEngg               0.020594              -0.000275  \n",
       "CivilEngg                 0.010541              -0.031270  \n",
       "conscientiousness        -0.330810               0.394473  \n",
       "agreeableness            -0.207508               0.591654  \n",
       "extraversion             -0.096825               0.435059  \n",
       "nueroticism               1.000000              -0.065783  \n",
       "openess_to_experience    -0.065783               1.000000  \n",
       "\n",
       "[27 rows x 27 columns]"
      ]
     },
     "execution_count": 134,
     "metadata": {},
     "output_type": "execute_result"
    }
   ],
   "source": [
    "df.corr()"
   ]
  },
  {
   "cell_type": "code",
   "execution_count": 185,
   "id": "56346df0",
   "metadata": {},
   "outputs": [
    {
     "data": {
      "text/plain": [
       "<AxesSubplot:xlabel='Salary', ylabel='10percentage'>"
      ]
     },
     "execution_count": 185,
     "metadata": {},
     "output_type": "execute_result"
    },
    {
     "data": {
      "image/png": "[encoded data removed]",
      "text/plain": [
       "<Figure size 288x288 with 1 Axes>"
      ]
     },
     "metadata": {
      "needs_background": "light"
     },
     "output_type": "display_data"
    }
   ],
   "source": [
    "df.plot(kind='scatter', x='Salary', y='10percentage', figsize=(4, 4))  ## doesn't have correlation between salary & 10percentage\n"
   ]
  },
  {
   "cell_type": "code",
   "execution_count": 136,
   "id": "1782030e",
   "metadata": {},
   "outputs": [
    {
     "data": {
      "text/plain": [
       "<AxesSubplot:xlabel='Salary', ylabel='ComputerProgramming'>"
      ]
     },
     "execution_count": 136,
     "metadata": {},
     "output_type": "execute_result"
    },
    {
     "data": {
      "image/png": "[encoded data removed]",
      "text/plain": [
       "<Figure size 288x288 with 1 Axes>"
      ]
     },
     "metadata": {
      "needs_background": "light"
     },
     "output_type": "display_data"
    }
   ],
   "source": [
    "df.plot(kind='scatter', x='Salary', y='ComputerProgramming', figsize=(4, 4))\n"
   ]
  },
  {
   "cell_type": "code",
   "execution_count": 137,
   "id": "15c61775",
   "metadata": {},
   "outputs": [
    {
     "data": {
      "text/plain": [
       "<AxesSubplot:xlabel='Salary', ylabel='MechanicalEngg'>"
      ]
     },
     "execution_count": 137,
     "metadata": {},
     "output_type": "execute_result"
    },
    {
     "data": {
      "image/png": "[encoded data removed]",
      "text/plain": [
       "<Figure size 288x288 with 1 Axes>"
      ]
     },
     "metadata": {
      "needs_background": "light"
     },
     "output_type": "display_data"
    }
   ],
   "source": [
    "df.plot(kind='scatter', x='Salary', y='MechanicalEngg', figsize=(4, 4))\n"
   ]
  },
  {
   "cell_type": "code",
   "execution_count": 142,
   "id": "57deb62b",
   "metadata": {},
   "outputs": [
    {
     "data": {
      "image/png": "[encoded data removed]",
      "text/plain": [
       "<Figure size 432x288 with 1 Axes>"
      ]
     },
     "metadata": {
      "needs_background": "light"
     },
     "output_type": "display_data"
    },
    {
     "data": {
      "image/png": "[encoded data removed]",
      "text/plain": [
       "<Figure size 432x288 with 1 Axes>"
      ]
     },
     "metadata": {
      "needs_background": "light"
     },
     "output_type": "display_data"
    }
   ],
   "source": [
    "plt.hexbin(Salary, MechanicalEngg, gridsize=(15,15) )  #  Hexbin Plot\n",
    "plt.show()\n",
    " \n",
    "# We can control the size of the bins:\n",
    "plt.hexbin(Salary, MechanicalEngg, gridsize=(150,150) )\n",
    "plt.show()"
   ]
  },
  {
   "cell_type": "markdown",
   "id": "cabeeb7f",
   "metadata": {},
   "source": [
    "# Bivariate Analysis  - Salary vs Degree\n",
    "\n",
    "How is Salary related with degree ?\n",
    "\n",
    "How salary changes with Gender?"
   ]
  },
  {
   "cell_type": "code",
   "execution_count": 119,
   "id": "1fa5f925",
   "metadata": {},
   "outputs": [
    {
     "name": "stderr",
     "output_type": "stream",
     "text": [
      "c:\\users\\aishwary\\appdata\\local\\programs\\python\\python39\\lib\\site-packages\\seaborn\\categorical.py:1296: UserWarning: 94.9% of the points cannot be placed; you may want to decrease the size of the markers or use stripplot.\n",
      "  warnings.warn(msg, UserWarning)\n",
      "c:\\users\\aishwary\\appdata\\local\\programs\\python\\python39\\lib\\site-packages\\seaborn\\categorical.py:1296: UserWarning: 62.8% of the points cannot be placed; you may want to decrease the size of the markers or use stripplot.\n",
      "  warnings.warn(msg, UserWarning)\n"
     ]
    },
    {
     "data": {
      "text/plain": [
       "<AxesSubplot:xlabel='Salary', ylabel='Degree'>"
      ]
     },
     "execution_count": 119,
     "metadata": {},
     "output_type": "execute_result"
    },
    {
     "data": {
      "image/png": "[encoded data removed]",
      "text/plain": [
       "<Figure size 432x288 with 1 Axes>"
      ]
     },
     "metadata": {
      "needs_background": "light"
     },
     "output_type": "display_data"
    }
   ],
   "source": [
    " \n",
    "import seaborn\n",
    "seaborn.swarmplot(x=\"Salary\",\n",
    "                  y=\"Degree\",\n",
    "                  data=df)"
   ]
  },
  {
   "cell_type": "code",
   "execution_count": 127,
   "id": "b7f88c1a",
   "metadata": {
    "scrolled": false
   },
   "outputs": [
    {
     "name": "stderr",
     "output_type": "stream",
     "text": [
      "c:\\users\\aishwary\\appdata\\local\\programs\\python\\python39\\lib\\site-packages\\seaborn\\categorical.py:1296: UserWarning: 78.0% of the points cannot be placed; you may want to decrease the size of the markers or use stripplot.\n",
      "  warnings.warn(msg, UserWarning)\n",
      "c:\\users\\aishwary\\appdata\\local\\programs\\python\\python39\\lib\\site-packages\\seaborn\\categorical.py:1296: UserWarning: 89.8% of the points cannot be placed; you may want to decrease the size of the markers or use stripplot.\n",
      "  warnings.warn(msg, UserWarning)\n"
     ]
    },
    {
     "data": {
      "text/plain": [
       "<AxesSubplot:xlabel='Salary', ylabel='Gender'>"
      ]
     },
     "execution_count": 127,
     "metadata": {},
     "output_type": "execute_result"
    },
    {
     "data": {
      "image/png": "[encoded data removed]",
      "text/plain": [
       "<Figure size 432x288 with 1 Axes>"
      ]
     },
     "metadata": {
      "needs_background": "light"
     },
     "output_type": "display_data"
    }
   ],
   "source": [
    "seaborn.swarmplot(x=\"Salary\",y=\"Gender\",data=df)"
   ]
  },
  {
   "cell_type": "code",
   "execution_count": 139,
   "id": "abd13012",
   "metadata": {},
   "outputs": [
    {
     "data": {
      "text/html": [
       "<div>\n",
       "<style scoped>\n",
       "    .dataframe tbody tr th:only-of-type {\n",
       "        vertical-align: middle;\n",
       "    }\n",
       "\n",
       "    .dataframe tbody tr th {\n",
       "        vertical-align: top;\n",
       "    }\n",
       "\n",
       "    .dataframe thead th {\n",
       "        text-align: right;\n",
       "    }\n",
       "</style>\n",
       "<table border=\"1\" class=\"dataframe\">\n",
       "  <thead>\n",
       "    <tr style=\"text-align: right;\">\n",
       "      <th></th>\n",
       "      <th>min</th>\n",
       "      <th>max</th>\n",
       "      <th>mean</th>\n",
       "      <th>median</th>\n",
       "    </tr>\n",
       "    <tr>\n",
       "      <th>Gender</th>\n",
       "      <th></th>\n",
       "      <th></th>\n",
       "      <th></th>\n",
       "      <th></th>\n",
       "    </tr>\n",
       "  </thead>\n",
       "  <tbody>\n",
       "    <tr>\n",
       "      <th>f</th>\n",
       "      <td>35000.0</td>\n",
       "      <td>1860000.0</td>\n",
       "      <td>291584.728033</td>\n",
       "      <td>300000.0</td>\n",
       "    </tr>\n",
       "    <tr>\n",
       "      <th>m</th>\n",
       "      <td>35000.0</td>\n",
       "      <td>3000000.0</td>\n",
       "      <td>309288.910826</td>\n",
       "      <td>300000.0</td>\n",
       "    </tr>\n",
       "  </tbody>\n",
       "</table>\n",
       "</div>"
      ],
      "text/plain": [
       "            min        max           mean    median\n",
       "Gender                                             \n",
       "f       35000.0  1860000.0  291584.728033  300000.0\n",
       "m       35000.0  3000000.0  309288.910826  300000.0"
      ]
     },
     "execution_count": 139,
     "metadata": {},
     "output_type": "execute_result"
    }
   ],
   "source": [
    "group = df.groupby('Gender')\n",
    "\n",
    "group['Salary'].agg(['min', 'max', 'mean', 'median'])"
   ]
  },
  {
   "cell_type": "code",
   "execution_count": 138,
   "id": "b3f6b424",
   "metadata": {},
   "outputs": [
    {
     "data": {
      "text/plain": [
       "<AxesSubplot:title={'center':'Salary'}, xlabel='Gender'>"
      ]
     },
     "execution_count": 138,
     "metadata": {},
     "output_type": "execute_result"
    },
    {
     "data": {
      "image/png": "[encoded data removed]",
      "text/plain": [
       "<Figure size 432x288 with 1 Axes>"
      ]
     },
     "metadata": {
      "needs_background": "light"
     },
     "output_type": "display_data"
    }
   ],
   "source": [
    "df.boxplot(by='Gender', column='Salary')    ### There are more extreme outliers in male than in female\n"
   ]
  },
  {
   "cell_type": "markdown",
   "id": "e3f91e11",
   "metadata": {},
   "source": [
    "# Research Questions\n",
    "Times of India article dated Jan 18, 2019 states that “After doing your Computer Science Engineering \n",
    "if you take up jobs as a Programming Analyst, Software Engineer, Hardware Engineer and \n",
    "Associate Engineer you can earn up to 2.5-3 lakhs as a fresh graduate.” Test this claim with the data given to you.\n",
    "Is there a relationship between gender and specialization? (i.e. Does the preference of Specialisation depend on the Gender?)\n"
   ]
  },
  {
   "cell_type": "code",
   "execution_count": 197,
   "id": "c5470e05",
   "metadata": {},
   "outputs": [
    {
     "name": "stdout",
     "output_type": "stream",
     "text": [
      "software engineer                         539\n",
      "software developer                        265\n",
      "system engineer                           205\n",
      "programmer analyst                        139\n",
      "systems engineer                          118\n",
      "java software engineer                    111\n",
      "software test engineer                    100\n",
      "project engineer                           77\n",
      "technical support engineer                 76\n",
      "senior software engineer                   71\n",
      "java developer                             67\n",
      "test engineer                              57\n",
      "web developer                              54\n",
      "application developer                      52\n",
      "assistant manager                          52\n",
      "network engineer                           51\n",
      "data analyst                               49\n",
      "business analyst                           49\n",
      "engineer                                   47\n",
      "android developer                          46\n",
      "associate software engineer                46\n",
      "programmer                                 36\n",
      "senior systems engineer                    35\n",
      ".net developer                             34\n",
      "php developer                              33\n",
      "qa analyst                                 29\n",
      "production engineer                        29\n",
      "design engineer                            28\n",
      "asp.net developer                          26\n",
      "quality analyst                            25\n",
      "electrical engineer                        23\n",
      "application engineer                       22\n",
      "assistant system engineer                  22\n",
      "senior software developer                  20\n",
      "lecturer                                   20\n",
      "system administrator                       20\n",
      "management trainee                         19\n",
      "senior engineer                            18\n",
      "customer service representative            17\n",
      "customer service                           17\n",
      "quality engineer                           17\n",
      "software development engineer              17\n",
      "software quality assurance tester          17\n",
      "sales executive                            17\n",
      "embedded software engineer                 16\n",
      "quality assurance test engineer            15\n",
      "research analyst                           15\n",
      "automation engineer                        14\n",
      "get                                        14\n",
      "maintenance engineer                       14\n",
      "graduate engineer trainee                  14\n",
      "quality assurance engineer                 14\n",
      "business development manager               14\n",
      "it support specialist                      13\n",
      "technical engineer                         13\n",
      "sales engineer                             13\n",
      "product development engineer               13\n",
      "rf engineer                                13\n",
      "ios developer                              13\n",
      "entry level management trainee             13\n",
      "client services associate                  13\n",
      "operations analyst                         12\n",
      "oracle dba                                 12\n",
      "assistant professor                        12\n",
      "junior engineer                            11\n",
      "associate system engineer                  11\n",
      "systems analyst                            11\n",
      "research associate                         11\n",
      "product engineer                           10\n",
      "quality associate                          10\n",
      "junior software engineer                    9\n",
      "electrical project engineer                 9\n",
      "business analyst consultant                 9\n",
      "telecom engineer                            9\n",
      "web designer                                9\n",
      "technical support specialist                8\n",
      "project coordinator                         8\n",
      "technical recruiter                         8\n",
      "hardware engineer                           8\n",
      "process associate                           8\n",
      "desktop support technician                  8\n",
      "electrical design engineer                  8\n",
      "it analyst                                  7\n",
      "field service engineer                      7\n",
      "mechanical design engineer                  7\n",
      "software trainee                            7\n",
      "salesforce developer                        7\n",
      "mechanical engineer                         7\n",
      "database developer                          7\n",
      "research engineer                           7\n",
      "it recruiter                                7\n",
      "trainee engineer                            7\n",
      "operations assistant                        6\n",
      "quality assurance automation engineer       6\n",
      "web application developer                   6\n",
      "it technician                               6\n",
      "manager                                     6\n",
      "trainee software engineer                   6\n",
      "information security analyst                6\n",
      "process engineer                            6\n",
      "associate engineer                          6\n",
      "technology analyst                          6\n",
      "operation executive                         5\n",
      "service coordinator                         5\n",
      "etl developer                               5\n",
      "product manager                             5\n",
      "operations manager                          5\n",
      "electrical field engineer                   5\n",
      "software quality assurance analyst          5\n",
      "linux systems administrator                 5\n",
      "sql dba                                     5\n",
      "database administrator                      5\n",
      "technical lead                              5\n",
      "business systems consultant                 5\n",
      "senior quality engineer                     5\n",
      "ui developer                                5\n",
      "electronic field service engineer           5\n",
      "site manager                                5\n",
      "programmer analyst trainee                  5\n",
      "mobile application developer                5\n",
      "business development executive              5\n",
      "hr recruiter                                5\n",
      "it executive                                4\n",
      "assistant engineer                          4\n",
      "marketing analyst                           4\n",
      "sales associate                             4\n",
      "junior software developer                   4\n",
      "senior .net developer                       4\n",
      "front end web developer                     4\n",
      "assistant systems engineer                  4\n",
      "it business analyst                         4\n",
      "network administrator                       4\n",
      "seo executive                               4\n",
      "project assistant                           4\n",
      "associate software developer                4\n",
      "junior research fellow                      4\n",
      "engineer trainee                            4\n",
      "field business development associate        4\n",
      "senior java developer                       4\n",
      "sql developer                               4\n",
      "senior php developer                        4\n",
      "business system analyst                     4\n",
      "service engineer                            4\n",
      "executive assistant                         4\n",
      ".net web developer                          4\n",
      "account executive                           4\n",
      "engineering manager                         3\n",
      "manufacturing engineer                      3\n",
      "senior network engineer                     3\n",
      "customer service manager                    3\n",
      "software engineer trainee                   3\n",
      "data scientist                              3\n",
      "technical support executive                 3\n",
      "apprentice                                  3\n",
      "graduate apprentice trainee                 3\n",
      "senior business analyst                     3\n",
      "jr. software engineer                       3\n",
      "project manager                             3\n",
      "junior engineer product support             3\n",
      "sales management trainee                    3\n",
      "civil engineer                              3\n",
      "seo                                         3\n",
      "training specialist                         3\n",
      "quality assurance tester                    3\n",
      "assistant programmer                        3\n",
      "game developer                              3\n",
      "assistant software engineer                 3\n",
      "marketing coordinator                       3\n",
      "desktop support analyst                     3\n",
      "technical writer                            3\n",
      "senior web developer                        3\n",
      "systems administrator                       3\n",
      "it engineer                                 3\n",
      "cad designer                                3\n",
      "business technology analyst                 3\n",
      "data entry operator                         3\n",
      "front end developer                         3\n",
      "quality assurance                           3\n",
      "designer                                    3\n",
      "office coordinator                          3\n",
      "sap consultant                              3\n",
      "field engineer                              3\n",
      "online marketing manager                    3\n",
      "network security engineer                   3\n",
      "ase                                         3\n",
      "service manager                             3\n",
      "business intelligence analyst               3\n",
      "graduate trainee engineer                   2\n",
      "software enginner                           2\n",
      "industrial engineer                         2\n",
      "process advisor                             2\n",
      "team lead                                   2\n",
      "general manager                             2\n",
      "help desk analyst                           2\n",
      "shift engineer                              2\n",
      "financial analyst                           2\n",
      "assistant electrical engineer               2\n",
      "r&d engineer                                2\n",
      "html developer                              2\n",
      "sales account manager                       2\n",
      "sap abap consultant                         2\n",
      "talent acquisition specialist               2\n",
      "hr manager                                  2\n",
      "principal software engineer                 2\n",
      "senior mechanical engineer                  2\n",
      "process executive                           2\n",
      "seo engineer                                2\n",
      "site engineer                               2\n",
      "educator                                    2\n",
      "testing engineer                            2\n",
      "technical assistant                         2\n",
      "developer                                   2\n",
      "research staff member                       2\n",
      "software engineer associate                 2\n",
      "quality control engineer                    2\n",
      "firmware engineer                           2\n",
      "risk consultant                             2\n",
      "engineering technician                      2\n",
      "portfolio analyst                           2\n",
      "senior test engineer                        2\n",
      "performance engineer                        2\n",
      "javascript developer                        2\n",
      "help desk technician                        2\n",
      "trainee decision scientist                  2\n",
      "entry level sales and marketing             2\n",
      "software programmer                         2\n",
      "sr. engineer                                2\n",
      "business process analyst                    2\n",
      "electrical designer                         2\n",
      "product developer                           2\n",
      "marketing assistant                         2\n",
      "customer support engineer                   2\n",
      "admin assistant                             2\n",
      "planning engineer                           2\n",
      "executive recruiter                         2\n",
      "asst. manager                               2\n",
      "operations executive                        2\n",
      "catalog associate                           2\n",
      "graduate engineer                           2\n",
      "qa engineer                                 2\n",
      "ux designer                                 2\n",
      "business office manager                     2\n",
      "c# developer                                2\n",
      "sales coordinator                           2\n",
      "team leader                                 2\n",
      "hr generalist                               2\n",
      "software tester                             2\n",
      "clerical                                    2\n",
      "product design engineer                     2\n",
      "executive engineer                          2\n",
      "faculty                                     2\n",
      "branch manager                              2\n",
      "assistant store manager                     2\n",
      "technical consultant                        2\n",
      "account manager                             1\n",
      "project management officer                  1\n",
      "controls engineer                           1\n",
      "corporate recruiter                         1\n",
      "ruby on rails developer                     1\n",
      "associate developer                         1\n",
      "junior recruiter                            1\n",
      "professor                                   1\n",
      "business systems analyst                    1\n",
      "assistant administrator                     1\n",
      "rf/dt engineer                              1\n",
      "full-time loss prevention associate         1\n",
      "business consultant                         1\n",
      "teradata dba                                1\n",
      "sales manager                               1\n",
      "it developer                                1\n",
      "software engg                               1\n",
      "dotnet developer                            1\n",
      "logistics executive                         1\n",
      "human resources analyst                     1\n",
      "software test engineerte                    1\n",
      "test technician                             1\n",
      "seo analyst                                 1\n",
      "risk investigator                           1\n",
      "executive administrative assistant          1\n",
      "program manager                             1\n",
      "r & d                                       1\n",
      "sap functional consultant                   1\n",
      "website developer/tester                    1\n",
      "software designer                           1\n",
      "aircraft technician                         1\n",
      "customer care executive                     1\n",
      "associate qa                                1\n",
      "db2 dba                                     1\n",
      "program analyst trainee                     1\n",
      "electrical controls engineer                1\n",
      "senior sales executive                      1\n",
      "quality consultant                          1\n",
      "editor                                      1\n",
      "bss engineer                                1\n",
      "dba                                         1\n",
      "software eng                                1\n",
      "computer faculty                            1\n",
      "recruitment associate                       1\n",
      "it operations associate                     1\n",
      "assistant system engineer - trainee         1\n",
      "software executive                          1\n",
      "cnc programmer                              1\n",
      "junior .net developer                       1\n",
      "java trainee                                1\n",
      "maintenance supervisor                      1\n",
      "engineer-hws                                1\n",
      "operations engineer                         1\n",
      "senior research fellow                      1\n",
      "web designer and joomla administrator       1\n",
      "enterprise solutions developer              1\n",
      "information technology specialist           1\n",
      "quality assurance analyst                   1\n",
      "system engineer trainee                     1\n",
      "sales trainer                               1\n",
      "research scientist                          1\n",
      "sap mm consultant                           1\n",
      "assistant system engineer trainee           1\n",
      "qa trainee                                  1\n",
      "teradata developer                          1\n",
      "senior programmer                           1\n",
      "software test engineer (etl)                1\n",
      "associate software engg                     1\n",
      "software engineering associate              1\n",
      "supply chain analyst                        1\n",
      "hr executive                                1\n",
      "software engineer analyst                   1\n",
      "sap abap associate consultant               1\n",
      "sharepoint developer                        1\n",
      "engineer- customer support                  1\n",
      "cloud engineer                              1\n",
      "technology lead                             1\n",
      "software trainee engineer                   1\n",
      "dcs engineer                                1\n",
      "junior manager                              1\n",
      "senior design engineer                      1\n",
      "implementation engineer                     1\n",
      "executive hr                                1\n",
      "system analyst                              1\n",
      "phone banking officer                       1\n",
      "senior project engineer                     1\n",
      "continuous improvement engineer             1\n",
      "sales and service engineer                  1\n",
      "staffing recruiter                          1\n",
      "quality controller                          1\n",
      "mis executive                               1\n",
      "digital marketing specialist                1\n",
      "software devloper                           1\n",
      "technical operations analyst                1\n",
      "telecom support engineer                    1\n",
      "service and sales engineer                  1\n",
      "embedded engineer                           1\n",
      "manual tester                               1\n",
      "telecommunication engineer                  1\n",
      "documentation specialist                    1\n",
      "trainee software developer                  1\n",
      "recruitment coordinator                     1\n",
      "business development managerde              1\n",
      "human resources associate                   1\n",
      "operation engineer                          1\n",
      "recruiter                                   1\n",
      "marketing executive                         1\n",
      "associate manager                           1\n",
      "senior developer                            1\n",
      "associate technical operations              1\n",
      "software architect                          1\n",
      "seo trainee                                 1\n",
      "windows systems administrator               1\n",
      "python developer                            1\n",
      "operations engineer and jetty handling      1\n",
      "lead engineer                               1\n",
      "operations                                  1\n",
      "field based employee relations manager      1\n",
      "support engineer                            1\n",
      "gis/cad engineer                            1\n",
      "quality control inspector                   1\n",
      "visiting faculty                            1\n",
      "operational excellence manager              1\n",
      "sales & service engineer                    1\n",
      "web intern                                  1\n",
      "full stack developer                        1\n",
      "sr. database engineer                       1\n",
      "technical analyst                           1\n",
      "executive engg                              1\n",
      "process control engineer                    1\n",
      "sap analyst                                 1\n",
      "associate test engineer                     1\n",
      "software engineere                          1\n",
      "financial service consultant                1\n",
      "co faculty                                  1\n",
      "software analyst                            1\n",
      "it assistant                                1\n",
      "marketing manager                           1\n",
      "human resource assistant                    1\n",
      "hr assistant                                1\n",
      "quality control inspection technician       1\n",
      "sales development manager                   1\n",
      "graphic designer                            1\n",
      "delivery software engineer                  1\n",
      "clerical assistant                          1\n",
      "network support engineer                    1\n",
      "junior system analyst                       1\n",
      "secretary                                   1\n",
      "quality assurance auditor                   1\n",
      "lecturer & electrical maintenance           1\n",
      "sales support                               1\n",
      "administrative support                      1\n",
      "territory sales manager                     1\n",
      "project administrator                       1\n",
      "environmental engineer                      1\n",
      "web designer and seo                        1\n",
      "operational executive                       1\n",
      "administrative coordinator                  1\n",
      "senior risk consultant                      1\n",
      "desktop support engineer                    1\n",
      "cad drafter                                 1\n",
      "noc engineer                                1\n",
      "human resources intern                      1\n",
      "senior quality assurance engineer           1\n",
      "jr. software developer                      1\n",
      "Name: Designation, dtype: int64\n"
     ]
    }
   ],
   "source": [
    "designation = df['Designation'].value_counts()\n",
    "pd.set_option('display.max_rows', None)\n",
    "\n",
    "print(designation)"
   ]
  },
  {
   "cell_type": "code",
   "execution_count": 198,
   "id": "dd3bcee5",
   "metadata": {},
   "outputs": [],
   "source": [
    "df['Designation'] = df['Designation'].replace(['programmer analyst trainee', 'programmer analyst'], 'programmer analyst')\n",
    "\n",
    "df['Designation'] = df['Designation'].replace(['software eng', 'software engg', 'software engineer', 'software engineere','software enginner'],'software engineer')"
   ]
  },
  {
   "cell_type": "code",
   "execution_count": 203,
   "id": "01cbd7f8",
   "metadata": {},
   "outputs": [
    {
     "name": "stdout",
     "output_type": "stream",
     "text": [
      "[300000.0, 140000.0, 240000.0, 300000.0, 180000.0, 320000.0, 300000.0, 144000.0, 325000.0, 110000.0, 400000.0, 300000.0, 265000.0, 350000.0, 570000.0, 330000.0, 500000.0, 480000.0, 335000.0, 300000.0, 325000.0, 120000.0, 340000.0, 550000.0, 300000.0, 300000.0, 180000.0, 275000.0, 450000.0, 400000.0, 240000.0, 470000.0, 170000.0, 300000.0, 350000.0, 460000.0, 250000.0, 100000.0, 240000.0, 225000.0]\n"
     ]
    }
   ],
   "source": [
    "import random\n",
    "n = 40\n",
    "salary_random = random.sample(df['Salary'].tolist(),n)\n",
    "print(salary_random)"
   ]
  },
  {
   "cell_type": "code",
   "execution_count": 204,
   "id": "f734540a",
   "metadata": {},
   "outputs": [],
   "source": [
    "def t_score(sample_size, sample_mean, pop_mean, sample_std):\n",
    "    numerator = sample_mean - pop_mean\n",
    "    denomenator = sample_std / sample_size**0.5\n",
    "    return numerator / denomenator"
   ]
  },
  {
   "cell_type": "code",
   "execution_count": 205,
   "id": "aee2a6cf",
   "metadata": {},
   "outputs": [],
   "source": [
    "from scipy.stats import t,norm\n",
    "import statistics"
   ]
  },
  {
   "cell_type": "code",
   "execution_count": 206,
   "id": "07dccfbd",
   "metadata": {},
   "outputs": [
    {
     "name": "stdout",
     "output_type": "stream",
     "text": [
      "Sample Mean:  305850.0\n",
      "Sample Standard Deviation:  117529.82163842066\n"
     ]
    }
   ],
   "source": [
    "print('Sample Mean: ', statistics.mean(salary_random))\n",
    "print('Sample Standard Deviation: ', statistics.stdev(salary_random))"
   ]
  },
  {
   "cell_type": "code",
   "execution_count": 207,
   "id": "4ddf79ab",
   "metadata": {},
   "outputs": [],
   "source": [
    "sample_size = 40\n",
    "sample_mean = statistics.mean(salary_random)\n",
    "pop_mean = 275000\n",
    "sample_std = statistics.stdev(salary_random)"
   ]
  },
  {
   "cell_type": "code",
   "execution_count": 208,
   "id": "f08565a3",
   "metadata": {},
   "outputs": [
    {
     "name": "stdout",
     "output_type": "stream",
     "text": [
      "1.6601108460170289\n"
     ]
    }
   ],
   "source": [
    "t_value = t_score(sample_size, sample_mean, pop_mean, sample_std)\n",
    "print(t_value)"
   ]
  },
  {
   "cell_type": "code",
   "execution_count": 209,
   "id": "21fb9367",
   "metadata": {},
   "outputs": [
    {
     "name": "stdout",
     "output_type": "stream",
     "text": [
      "1.9842169515086827\n"
     ]
    }
   ],
   "source": [
    "confidence_level = 0.95\n",
    "\n",
    "alpha = 1 - confidence_level\n",
    "\n",
    "t_critical = t.ppf(1 - alpha/2, df = 99)\n",
    "\n",
    "print(t_critical)"
   ]
  },
  {
   "cell_type": "code",
   "execution_count": 210,
   "id": "b7e8163e",
   "metadata": {},
   "outputs": [
    {
     "data": {
      "text/plain": [
       "Text(305850.0, 0.7, 'x_bar')"
      ]
     },
     "execution_count": 210,
     "metadata": {},
     "output_type": "execute_result"
    },
    {
     "data": {
      "image/png": "[encoded data removed]",
      "text/plain": [
       "<Figure size 432x288 with 1 Axes>"
      ]
     },
     "metadata": {
      "needs_background": "light"
     },
     "output_type": "display_data"
    }
   ],
   "source": [
    "x_min = -200000\n",
    "x_max = 800000\n",
    "\n",
    "mean = pop_mean\n",
    "std = sample_std\n",
    "\n",
    "x = np.linspace(x_min, x_max, 100)\n",
    "y = norm.pdf(x, mean, std)\n",
    "plt.xlim(x_min, x_max)\n",
    "plt.plot(x, y)\n",
    "\n",
    "t_critical_left = pop_mean + (-t_critical * std)\n",
    "t_critical_right = pop_mean + (t_critical * std)\n",
    "\n",
    "x1 = np.linspace(x_min, t_critical_left, 100)\n",
    "y1 = norm.pdf(x1, mean, std)\n",
    "plt.fill_between(x1, y1, color='red')\n",
    "\n",
    "x2 = np.linspace(t_critical_right, x_max, 100)\n",
    "y2 = norm.pdf(x2, mean, std)\n",
    "plt.fill_between(x2, y2, color='red')\n",
    "\n",
    "plt.scatter(sample_mean, 0)\n",
    "plt.annotate(\"x_bar\", (sample_mean, 0.7))"
   ]
  },
  {
   "cell_type": "code",
   "execution_count": 211,
   "id": "c268a29a",
   "metadata": {},
   "outputs": [
    {
     "name": "stdout",
     "output_type": "stream",
     "text": [
      "There is not enough evidence to reject the Null Hypothesis\n"
     ]
    }
   ],
   "source": [
    "if(t_value < t_critical):\n",
    "    print(\"There is not enough evidence to reject the Null Hypothesis\")\n",
    "else:\n",
    "    print(\"There is sufficent evidence to reject the Null Hypothesis\")"
   ]
  },
  {
   "cell_type": "code",
   "execution_count": 212,
   "id": "1e8ad07d",
   "metadata": {},
   "outputs": [
    {
     "name": "stdout",
     "output_type": "stream",
     "text": [
      "p_value =  0.0968921553883253\n",
      "There is not enough evidence to reject the Null Hypothesis\n"
     ]
    }
   ],
   "source": [
    "p_value = 2 * (1.0 - norm.cdf(np.abs(t_value)))\n",
    "\n",
    "print(\"p_value = \", p_value)\n",
    "\n",
    "if(p_value > alpha):\n",
    "    print(\"There is not enough evidence to reject the Null Hypothesis\")\n",
    "else:\n",
    "    print(\"There is sufficent evidence to reject the Null Hypothesis\")"
   ]
  },
  {
   "cell_type": "markdown",
   "id": "1f46a109",
   "metadata": {},
   "source": [
    "# Observation\n",
    "As the result of the hypothesis testing we see that the claim is true.\n",
    "The t-test and probability value i.e.,p_value claiming it as right."
   ]
  },
  {
   "cell_type": "markdown",
   "id": "d99d0a66",
   "metadata": {},
   "source": [
    "# Is there a relationship between gender and specialization? (i.e. Does the preference of Specialisation depend on the Gender?"
   ]
  },
  {
   "cell_type": "code",
   "execution_count": 213,
   "id": "3a4f9ef1",
   "metadata": {},
   "outputs": [],
   "source": [
    "from scipy.stats import chi2, chi2_contingency\n"
   ]
  },
  {
   "cell_type": "code",
   "execution_count": 216,
   "id": "1a2468ee",
   "metadata": {},
   "outputs": [
    {
     "data": {
      "text/plain": [
       "[<matplotlib.lines.Line2D at 0x1ee9ef3c1c0>]"
      ]
     },
     "execution_count": 216,
     "metadata": {},
     "output_type": "execute_result"
    },
    {
     "data": {
      "image/png": "[encoded data removed]",
      "text/plain": [
       "<Figure size 432x288 with 1 Axes>"
      ]
     },
     "metadata": {
      "needs_background": "light"
     },
     "output_type": "display_data"
    }
   ],
   "source": [
    "x = np.linspace(0,80, 80)\n",
    "y = chi2.pdf(x, df=4)\n",
    "plt.plot(x, y)"
   ]
  },
  {
   "cell_type": "code",
   "execution_count": 222,
   "id": "94c0744f",
   "metadata": {
    "scrolled": true
   },
   "outputs": [
    {
     "data": {
      "text/html": [
       "<div>\n",
       "<style scoped>\n",
       "    .dataframe tbody tr th:only-of-type {\n",
       "        vertical-align: middle;\n",
       "    }\n",
       "\n",
       "    .dataframe tbody tr th {\n",
       "        vertical-align: top;\n",
       "    }\n",
       "\n",
       "    .dataframe thead th {\n",
       "        text-align: right;\n",
       "    }\n",
       "</style>\n",
       "<table border=\"1\" class=\"dataframe\">\n",
       "  <thead>\n",
       "    <tr style=\"text-align: right;\">\n",
       "      <th>Gender</th>\n",
       "      <th>f</th>\n",
       "      <th>m</th>\n",
       "    </tr>\n",
       "    <tr>\n",
       "      <th>Specialization</th>\n",
       "      <th></th>\n",
       "      <th></th>\n",
       "    </tr>\n",
       "  </thead>\n",
       "  <tbody>\n",
       "    <tr>\n",
       "      <th>aeronautical engineering</th>\n",
       "      <td>1</td>\n",
       "      <td>2</td>\n",
       "    </tr>\n",
       "    <tr>\n",
       "      <th>applied electronics and instrumentation</th>\n",
       "      <td>2</td>\n",
       "      <td>7</td>\n",
       "    </tr>\n",
       "    <tr>\n",
       "      <th>automobile/automotive engineering</th>\n",
       "      <td>0</td>\n",
       "      <td>5</td>\n",
       "    </tr>\n",
       "    <tr>\n",
       "      <th>biomedical engineering</th>\n",
       "      <td>2</td>\n",
       "      <td>0</td>\n",
       "    </tr>\n",
       "    <tr>\n",
       "      <th>biotechnology</th>\n",
       "      <td>9</td>\n",
       "      <td>6</td>\n",
       "    </tr>\n",
       "    <tr>\n",
       "      <th>ceramic engineering</th>\n",
       "      <td>0</td>\n",
       "      <td>1</td>\n",
       "    </tr>\n",
       "    <tr>\n",
       "      <th>chemical engineering</th>\n",
       "      <td>1</td>\n",
       "      <td>8</td>\n",
       "    </tr>\n",
       "    <tr>\n",
       "      <th>civil engineering</th>\n",
       "      <td>6</td>\n",
       "      <td>23</td>\n",
       "    </tr>\n",
       "    <tr>\n",
       "      <th>computer and communication engineering</th>\n",
       "      <td>0</td>\n",
       "      <td>1</td>\n",
       "    </tr>\n",
       "    <tr>\n",
       "      <th>computer application</th>\n",
       "      <td>59</td>\n",
       "      <td>184</td>\n",
       "    </tr>\n",
       "    <tr>\n",
       "      <th>computer engineering</th>\n",
       "      <td>174</td>\n",
       "      <td>424</td>\n",
       "    </tr>\n",
       "    <tr>\n",
       "      <th>computer networking</th>\n",
       "      <td>0</td>\n",
       "      <td>1</td>\n",
       "    </tr>\n",
       "    <tr>\n",
       "      <th>computer science</th>\n",
       "      <td>1</td>\n",
       "      <td>1</td>\n",
       "    </tr>\n",
       "    <tr>\n",
       "      <th>computer science &amp; engineering</th>\n",
       "      <td>183</td>\n",
       "      <td>561</td>\n",
       "    </tr>\n",
       "    <tr>\n",
       "      <th>computer science and technology</th>\n",
       "      <td>2</td>\n",
       "      <td>4</td>\n",
       "    </tr>\n",
       "    <tr>\n",
       "      <th>control and instrumentation engineering</th>\n",
       "      <td>0</td>\n",
       "      <td>1</td>\n",
       "    </tr>\n",
       "    <tr>\n",
       "      <th>electrical and power engineering</th>\n",
       "      <td>0</td>\n",
       "      <td>2</td>\n",
       "    </tr>\n",
       "    <tr>\n",
       "      <th>electrical engineering</th>\n",
       "      <td>17</td>\n",
       "      <td>65</td>\n",
       "    </tr>\n",
       "    <tr>\n",
       "      <th>electronics</th>\n",
       "      <td>0</td>\n",
       "      <td>1</td>\n",
       "    </tr>\n",
       "    <tr>\n",
       "      <th>electronics &amp; instrumentation eng</th>\n",
       "      <td>10</td>\n",
       "      <td>22</td>\n",
       "    </tr>\n",
       "    <tr>\n",
       "      <th>electronics &amp; telecommunications</th>\n",
       "      <td>28</td>\n",
       "      <td>93</td>\n",
       "    </tr>\n",
       "    <tr>\n",
       "      <th>electronics and communication engineering</th>\n",
       "      <td>212</td>\n",
       "      <td>668</td>\n",
       "    </tr>\n",
       "    <tr>\n",
       "      <th>electronics and computer engineering</th>\n",
       "      <td>0</td>\n",
       "      <td>3</td>\n",
       "    </tr>\n",
       "    <tr>\n",
       "      <th>electronics and electrical engineering</th>\n",
       "      <td>34</td>\n",
       "      <td>162</td>\n",
       "    </tr>\n",
       "    <tr>\n",
       "      <th>electronics and instrumentation engineering</th>\n",
       "      <td>5</td>\n",
       "      <td>22</td>\n",
       "    </tr>\n",
       "    <tr>\n",
       "      <th>electronics engineering</th>\n",
       "      <td>3</td>\n",
       "      <td>16</td>\n",
       "    </tr>\n",
       "    <tr>\n",
       "      <th>embedded systems technology</th>\n",
       "      <td>0</td>\n",
       "      <td>1</td>\n",
       "    </tr>\n",
       "    <tr>\n",
       "      <th>industrial &amp; management engineering</th>\n",
       "      <td>0</td>\n",
       "      <td>1</td>\n",
       "    </tr>\n",
       "    <tr>\n",
       "      <th>industrial &amp; production engineering</th>\n",
       "      <td>2</td>\n",
       "      <td>8</td>\n",
       "    </tr>\n",
       "    <tr>\n",
       "      <th>industrial engineering</th>\n",
       "      <td>1</td>\n",
       "      <td>1</td>\n",
       "    </tr>\n",
       "    <tr>\n",
       "      <th>information &amp; communication technology</th>\n",
       "      <td>2</td>\n",
       "      <td>0</td>\n",
       "    </tr>\n",
       "    <tr>\n",
       "      <th>information science</th>\n",
       "      <td>0</td>\n",
       "      <td>1</td>\n",
       "    </tr>\n",
       "    <tr>\n",
       "      <th>information science engineering</th>\n",
       "      <td>8</td>\n",
       "      <td>19</td>\n",
       "    </tr>\n",
       "    <tr>\n",
       "      <th>information technology</th>\n",
       "      <td>173</td>\n",
       "      <td>487</td>\n",
       "    </tr>\n",
       "    <tr>\n",
       "      <th>instrumentation and control engineering</th>\n",
       "      <td>9</td>\n",
       "      <td>11</td>\n",
       "    </tr>\n",
       "    <tr>\n",
       "      <th>instrumentation engineering</th>\n",
       "      <td>0</td>\n",
       "      <td>4</td>\n",
       "    </tr>\n",
       "    <tr>\n",
       "      <th>internal combustion engine</th>\n",
       "      <td>0</td>\n",
       "      <td>1</td>\n",
       "    </tr>\n",
       "    <tr>\n",
       "      <th>mechanical &amp; production engineering</th>\n",
       "      <td>0</td>\n",
       "      <td>1</td>\n",
       "    </tr>\n",
       "    <tr>\n",
       "      <th>mechanical and automation</th>\n",
       "      <td>0</td>\n",
       "      <td>5</td>\n",
       "    </tr>\n",
       "    <tr>\n",
       "      <th>mechanical engineering</th>\n",
       "      <td>10</td>\n",
       "      <td>191</td>\n",
       "    </tr>\n",
       "    <tr>\n",
       "      <th>mechatronics</th>\n",
       "      <td>1</td>\n",
       "      <td>3</td>\n",
       "    </tr>\n",
       "    <tr>\n",
       "      <th>metallurgical engineering</th>\n",
       "      <td>0</td>\n",
       "      <td>2</td>\n",
       "    </tr>\n",
       "    <tr>\n",
       "      <th>other</th>\n",
       "      <td>0</td>\n",
       "      <td>13</td>\n",
       "    </tr>\n",
       "    <tr>\n",
       "      <th>polymer technology</th>\n",
       "      <td>0</td>\n",
       "      <td>1</td>\n",
       "    </tr>\n",
       "    <tr>\n",
       "      <th>power systems and automation</th>\n",
       "      <td>0</td>\n",
       "      <td>1</td>\n",
       "    </tr>\n",
       "    <tr>\n",
       "      <th>telecommunication engineering</th>\n",
       "      <td>1</td>\n",
       "      <td>5</td>\n",
       "    </tr>\n",
       "  </tbody>\n",
       "</table>\n",
       "</div>"
      ],
      "text/plain": [
       "Gender                                         f    m\n",
       "Specialization                                       \n",
       "aeronautical engineering                       1    2\n",
       "applied electronics and instrumentation        2    7\n",
       "automobile/automotive engineering              0    5\n",
       "biomedical engineering                         2    0\n",
       "biotechnology                                  9    6\n",
       "ceramic engineering                            0    1\n",
       "chemical engineering                           1    8\n",
       "civil engineering                              6   23\n",
       "computer and communication engineering         0    1\n",
       "computer application                          59  184\n",
       "computer engineering                         174  424\n",
       "computer networking                            0    1\n",
       "computer science                               1    1\n",
       "computer science & engineering               183  561\n",
       "computer science and technology                2    4\n",
       "control and instrumentation engineering        0    1\n",
       "electrical and power engineering               0    2\n",
       "electrical engineering                        17   65\n",
       "electronics                                    0    1\n",
       "electronics & instrumentation eng             10   22\n",
       "electronics & telecommunications              28   93\n",
       "electronics and communication engineering    212  668\n",
       "electronics and computer engineering           0    3\n",
       "electronics and electrical engineering        34  162\n",
       "electronics and instrumentation engineering    5   22\n",
       "electronics engineering                        3   16\n",
       "embedded systems technology                    0    1\n",
       "industrial & management engineering            0    1\n",
       "industrial & production engineering            2    8\n",
       "industrial engineering                         1    1\n",
       "information & communication technology         2    0\n",
       "information science                            0    1\n",
       "information science engineering                8   19\n",
       "information technology                       173  487\n",
       "instrumentation and control engineering        9   11\n",
       "instrumentation engineering                    0    4\n",
       "internal combustion engine                     0    1\n",
       "mechanical & production engineering            0    1\n",
       "mechanical and automation                      0    5\n",
       "mechanical engineering                        10  191\n",
       "mechatronics                                   1    3\n",
       "metallurgical engineering                      0    2\n",
       "other                                          0   13\n",
       "polymer technology                             0    1\n",
       "power systems and automation                   0    1\n",
       "telecommunication engineering                  1    5"
      ]
     },
     "execution_count": 222,
     "metadata": {},
     "output_type": "execute_result"
    }
   ],
   "source": [
    "obs = pd.crosstab(df.Specialization,df.Gender)\n",
    "obs"
   ]
  },
  {
   "cell_type": "code",
   "execution_count": 223,
   "id": "354020bc",
   "metadata": {
    "scrolled": true
   },
   "outputs": [
    {
     "data": {
      "text/plain": [
       "(104.22981248483481,\n",
       " 1.3380208022165791e-06,\n",
       " 45,\n",
       " array([[7.17897372e-01, 2.28210263e+00],\n",
       "        [2.15369212e+00, 6.84630788e+00],\n",
       "        [1.19649562e+00, 3.80350438e+00],\n",
       "        [4.78598248e-01, 1.52140175e+00],\n",
       "        [3.58948686e+00, 1.14105131e+01],\n",
       "        [2.39299124e-01, 7.60700876e-01],\n",
       "        [2.15369212e+00, 6.84630788e+00],\n",
       "        [6.93967459e+00, 2.20603254e+01],\n",
       "        [2.39299124e-01, 7.60700876e-01],\n",
       "        [5.81496871e+01, 1.84850313e+02],\n",
       "        [1.43100876e+02, 4.54899124e+02],\n",
       "        [2.39299124e-01, 7.60700876e-01],\n",
       "        [4.78598248e-01, 1.52140175e+00],\n",
       "        [1.78038548e+02, 5.65961452e+02],\n",
       "        [1.43579474e+00, 4.56420526e+00],\n",
       "        [2.39299124e-01, 7.60700876e-01],\n",
       "        [4.78598248e-01, 1.52140175e+00],\n",
       "        [1.96225282e+01, 6.23774718e+01],\n",
       "        [2.39299124e-01, 7.60700876e-01],\n",
       "        [7.65757196e+00, 2.43424280e+01],\n",
       "        [2.89551940e+01, 9.20448060e+01],\n",
       "        [2.10583229e+02, 6.69416771e+02],\n",
       "        [7.17897372e-01, 2.28210263e+00],\n",
       "        [4.69026283e+01, 1.49097372e+02],\n",
       "        [6.46107635e+00, 2.05389237e+01],\n",
       "        [4.54668335e+00, 1.44533166e+01],\n",
       "        [2.39299124e-01, 7.60700876e-01],\n",
       "        [2.39299124e-01, 7.60700876e-01],\n",
       "        [2.39299124e+00, 7.60700876e+00],\n",
       "        [4.78598248e-01, 1.52140175e+00],\n",
       "        [4.78598248e-01, 1.52140175e+00],\n",
       "        [2.39299124e-01, 7.60700876e-01],\n",
       "        [6.46107635e+00, 2.05389237e+01],\n",
       "        [1.57937422e+02, 5.02062578e+02],\n",
       "        [4.78598248e+00, 1.52140175e+01],\n",
       "        [9.57196496e-01, 3.04280350e+00],\n",
       "        [2.39299124e-01, 7.60700876e-01],\n",
       "        [2.39299124e-01, 7.60700876e-01],\n",
       "        [1.19649562e+00, 3.80350438e+00],\n",
       "        [4.80991239e+01, 1.52900876e+02],\n",
       "        [9.57196496e-01, 3.04280350e+00],\n",
       "        [4.78598248e-01, 1.52140175e+00],\n",
       "        [3.11088861e+00, 9.88911139e+00],\n",
       "        [2.39299124e-01, 7.60700876e-01],\n",
       "        [2.39299124e-01, 7.60700876e-01],\n",
       "        [1.43579474e+00, 4.56420526e+00]]))"
      ]
     },
     "execution_count": 223,
     "metadata": {},
     "output_type": "execute_result"
    }
   ],
   "source": [
    "chi2_contingency(obs)"
   ]
  },
  {
   "cell_type": "code",
   "execution_count": 224,
   "id": "50c2be85",
   "metadata": {},
   "outputs": [],
   "source": [
    "chi2_test_stat = chi2_contingency(obs)[0]\n",
    "pval = chi2_contingency(obs)[1]\n",
    "data = chi2_contingency(obs)[2]"
   ]
  },
  {
   "cell_type": "code",
   "execution_count": 225,
   "id": "354f353c",
   "metadata": {},
   "outputs": [
    {
     "data": {
      "text/plain": [
       "61.65623337627955"
      ]
     },
     "execution_count": 225,
     "metadata": {},
     "output_type": "execute_result"
    }
   ],
   "source": [
    "confidence_level = 0.95\n",
    "\n",
    "alpha = 1 - confidence_level\n",
    "\n",
    "chi2_critical = chi2.ppf(1 - alpha, data)\n",
    "\n",
    "chi2_critical"
   ]
  },
  {
   "cell_type": "code",
   "execution_count": 226,
   "id": "15d1d510",
   "metadata": {},
   "outputs": [
    {
     "data": {
      "text/plain": [
       "<matplotlib.collections.PolyCollection at 0x1ee9f010ee0>"
      ]
     },
     "execution_count": 226,
     "metadata": {},
     "output_type": "execute_result"
    },
    {
     "data": {
      "image/png": "[encoded data removed]",
      "text/plain": [
       "<Figure size 432x288 with 1 Axes>"
      ]
     },
     "metadata": {
      "needs_background": "light"
     },
     "output_type": "display_data"
    }
   ],
   "source": [
    "# Defining the x minimum and x maximum\n",
    "x_min = 0\n",
    "x_max = 100\n",
    "\n",
    "# Ploting the graph and setting the x limits\n",
    "x = np.linspace(x_min, x_max, 100)\n",
    "y = chi2.pdf(x, data)\n",
    "plt.xlim(x_min, x_max)\n",
    "plt.plot(x, y)\n",
    "\n",
    "\n",
    "# Setting Chi2 Critical value \n",
    "chi2_critical_right = chi2_critical\n",
    "\n",
    "# Shading the right rejection region\n",
    "x1 = np.linspace(chi2_critical_right, x_max, 100)\n",
    "y1 = chi2.pdf(x1, data)\n",
    "plt.fill_between(x1, y1, color='green')"
   ]
  },
  {
   "cell_type": "code",
   "execution_count": 227,
   "id": "cd58cac7",
   "metadata": {},
   "outputs": [
    {
     "name": "stdout",
     "output_type": "stream",
     "text": [
      "There is not enough evidence to reject Null Hypothesis\n"
     ]
    }
   ],
   "source": [
    "if(chi2_test_stat > chi2_critical):\n",
    "    print(\"There is not enough evidence to reject Null Hypothesis\")\n",
    "else:\n",
    "    print(\"There is sufficient evidence to reject Null Hypothesis\")"
   ]
  },
  {
   "cell_type": "code",
   "execution_count": 228,
   "id": "df3833ab",
   "metadata": {},
   "outputs": [
    {
     "name": "stdout",
     "output_type": "stream",
     "text": [
      "There is not enough evidence to reject Null Hypothesis\n"
     ]
    }
   ],
   "source": [
    "if(pval < alpha):\n",
    "    print(\"There is not enough evidence to reject Null Hypothesis\")\n",
    "else:\n",
    "    print(\"There is sufficient evidence to reject Null Hypothesis\")"
   ]
  },
  {
   "cell_type": "markdown",
   "id": "34f99b2b",
   "metadata": {},
   "source": [
    "# Ovservation-\n",
    "there is a relationship between Gender and specialization.\n",
    "Test using Chi-Square test and find the result that both categorical variables are dependent. "
   ]
  },
  {
   "cell_type": "markdown",
   "id": "bab1f929",
   "metadata": {},
   "source": [
    "# Conclusion -"
   ]
  },
  {
   "cell_type": "markdown",
   "id": "0a91e001",
   "metadata": {},
   "source": [
    "## Data understanding:\n",
    "The dataset contains the employment info of engg graduates as dependent variables (Salary, Job Titles, and Job Locations) along with the standardized scores from three different areas – Cognitive, technical and Personality skills.\n",
    "\n",
    "## Data Manipulation;\n",
    "Data set contains the 4000 rows and 40 columns\n",
    "dataset having null values and need data manipulation\n",
    "Also needs to remove unnecessary col\n",
    "## Data Visualization:\n",
    "Univariate : It conatins visualization using  PDF, Histograms, Boxplots, Countplots\n",
    "\n",
    "Bivariate :  Scatterplot,piecharts,barplot,boxplot\n",
    "The main goal of our project is analyzing employee data to compare various percentage metrics. One aspect of our analysis is to  identifying outliers within the dataset using boxplots. Also we do many other analysis by keeping Salary as the main element apart from that, we aim to determine which cities have a higher concentration of employees by utilizing countplots, specifically focusing on job locations."
   ]
  },
  {
   "cell_type": "markdown",
   "id": "6e555273",
   "metadata": {},
   "source": [
    "# Bonus  Question"
   ]
  },
  {
   "cell_type": "markdown",
   "id": "ea607c33",
   "metadata": {},
   "source": [
    "## In a recruitment policy of leading companies, \n",
    "does AMCAT hiring policy of recruiting candidates with a minimum percentage of 60% and \n",
    "maintaining an average percentage of 70% hold true?"
   ]
  },
  {
   "cell_type": "code",
   "execution_count": 230,
   "id": "0f9e8b05",
   "metadata": {},
   "outputs": [
    {
     "data": {
      "text/plain": [
       "74.46342928660826"
      ]
     },
     "execution_count": 230,
     "metadata": {},
     "output_type": "execute_result"
    }
   ],
   "source": [
    "avg_per = df['12percentage'].mean()      \n",
    "avg_per"
   ]
  },
  {
   "cell_type": "markdown",
   "id": "1bba9d40",
   "metadata": {},
   "source": [
    "Avg Percent is 74.5 so it above the goal"
   ]
  },
  {
   "cell_type": "code",
   "execution_count": 233,
   "id": "ca1707ed",
   "metadata": {},
   "outputs": [
    {
     "data": {
      "image/png": "[encoded data removed]",
      "text/plain": [
       "<Figure size 576x432 with 1 Axes>"
      ]
     },
     "metadata": {
      "needs_background": "light"
     },
     "output_type": "display_data"
    }
   ],
   "source": [
    "plt.figure(figsize=(8, 6))\n",
    "sns.histplot(df['12percentage'], bins=10, kde=True)\n",
    "plt.title('Distribution of Percentage Scores for Recruited Candidates')\n",
    "plt.xlabel('Percentage')\n",
    "plt.ylabel('Frequency')\n",
    "plt.show()"
   ]
  },
  {
   "cell_type": "code",
   "execution_count": 235,
   "id": "9c399716",
   "metadata": {},
   "outputs": [
    {
     "name": "stdout",
     "output_type": "stream",
     "text": [
      "No specific recommendation.\n"
     ]
    }
   ],
   "source": [
    "if avg_per < 70:\n",
    "    print(\"Recommendation: AMCAT should consider revising its minimum percentage requirement or implementing additional screening to improve the quality of recruited candidates.\")\n",
    "else:\n",
    "    print(\"No specific recommendation.\")"
   ]
  },
  {
   "cell_type": "markdown",
   "id": "4a4c6671",
   "metadata": {},
   "source": [
    "# Observation\n",
    "No specific recommendation."
   ]
  },
  {
   "cell_type": "code",
   "execution_count": null,
   "id": "dbfd261f",
   "metadata": {},
   "outputs": [],
   "source": []
  },
  {
   "cell_type": "code",
   "execution_count": null,
   "id": "d6653a33",
   "metadata": {},
   "outputs": [],
   "source": []
  }
 ],
 "metadata": {
  "kernelspec": {
   "display_name": "Python 3 (ipykernel)",
   "language": "python",
   "name": "python3"
  },
  "language_info": {
   "codemirror_mode": {
    "name": "ipython",
    "version": 3
   },
   "file_extension": ".py",
   "mimetype": "text/x-python",
   "name": "python",
   "nbconvert_exporter": "python",
   "pygments_lexer": "ipython3",
   "version": "3.9.1"
  }
 },
 "nbformat": 4,
 "nbformat_minor": 5
}
